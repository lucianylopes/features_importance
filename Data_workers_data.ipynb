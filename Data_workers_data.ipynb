{
 "cells": [
  {
   "cell_type": "markdown",
   "id": "d841082e",
   "metadata": {},
   "source": [
    "# Data science workers profile"
   ]
  },
  {
   "cell_type": "markdown",
   "id": "2e6c643d",
   "metadata": {},
   "source": [
    "1. Question_1 (P1) = Age? [Masquerade] \n",
    "2. Question_2 (P2) = Gender? [Masquerade]\n",
    "3. Question_3 (P3) = You live in Brasil curently? \n",
    "5. Question_5 (P5) = In which brasilian state do you live curently? [Masquerade]\n",
    "6. Question_6 (P6) = Is this your born state (Where you were born or graduated)? **See if people move to work**\n",
    "8. Question_8 (P8) = What's your knowledge level? \n",
    "10. Question_10 (P10) = What's your curently job situation? \n",
    "12. Question_12 (P12) = How many workers does your company have curently? \n",
    "13. Question_13 (P13) = Are you a manager? \n",
    "16. Question_16 (P16) = How much is your salary? [Masquerade]\n",
    "17. Question_17 (P17) = How many years of experience you have on DS field?\n",
    "18. Question_18 (P18) = How many years of experience you have on IT/Software engineering you had before you start on DS field? \n",
    "19. Question_19 (P19) = You consider yourself a DS worker? **For those who say no see if they use the tools DS use**\n",
    "20. Question_20 (P20) = Quais dos métodos listados abaixo você costuma utilizar no trabalho?\n",
    "21. Question_21 (P21) = Which of those programming languages you use at work?\n",
    "22. Question_22 (P22) = From those which is the programming language you use the most at work? [Masquerade]\n",
    "23. Question_23 (P23) = Quais das fontes de dados listadas você já analisou no trabalho?\n",
    "24. Question_24 (P24) = Entre as fontes de dados listadas, quais você utiliza na maior parte do tempo? Selecione no máximo duas opções que você mais utiliza. **Delete**\n",
    "25. Question_25 (P25) = Quais das opções de Cloud listadas abaixo você utiliza no trabalho?\n",
    "26. Question_26 (P26) = Quais dos bancos de dados/fontes de dados listados abaixo você utiliza para consultar informações, e posteriormente analisar, no trabalho?\n",
    "27. Question_27 (P27) = Quais as Ferramentas de Business Intelligence você utiliza no trabalho?\n",
    "28. Question_28 (P28) = Quais as tecnologias são utilizadas como ferramenta de ETL no seu trabalho?\n",
    "29. Question_29 (P29) = Sua organização possui um Data Warehouse? **Delete**\n",
    "30. Question_30 (P30) = Qual tecnologia utilizada como plataforma do Data Warehouse?\n",
    "31. Question_31 (P31) = Quais das iniciativas do Data Hackers que você já acessou/acompanhou? **Delete**\n",
    "32. Question_32 (P32) = Entre as iniciativas do Data Hackers qual a sua preferida? **Delete**\n",
    "33. Question_33 (P33) = De quais outras formas que você costuma se atualizar no mundo dos dados?\n",
    "34. Question_34 (P34) = Em quais dessas plataformas listadas abaixo você já iniciou/completou cursos na área de Data Science?\n",
    "35. Question_35 (P35) = Dentre as plataformas listadas abaixo qual foi a sua preferida para cursos de Data Science? **Delete**\n",
    "36. Question_36 (P36) = Você deseja participar do sorteio? **Delete**\n",
    "\n",
    "Além dessas, derivamos algumas outras colunas:\n",
    "1. Derivado_1 (D1) = Macrorregião em que mora\n",
    "2. Derivado_2 (D2) = Macrorregião em que nasceu\n",
    "3. Derivado_3 (D3) = Área de formação anonimizada\n",
    "4. Derivado_4 (D4) = Setor de mercado anonimizado\n",
    "5. Derivado_5 (D5) = Nível de gerência anonimizado\n",
    "6. Derivado_6 (D6) = Cargo anonimizada"
   ]
  },
  {
   "cell_type": "code",
   "execution_count": 136,
   "id": "fc0b0de9",
   "metadata": {},
   "outputs": [],
   "source": [
    "import pandas as pd\n",
    "import numpy as np\n",
    "import matplotlib.pyplot as plt\n",
    "import seaborn as sns\n",
    "from sklearn.preprocessing import MinMaxScaler\n",
    "from sklearn.model_selection import train_test_split\n",
    "#Models\n",
    "from sklearn.ensemble import RandomForestRegressor\n",
    "#Metrics\n",
    "from sklearn.metrics import mean_squared_error, mean_absolute_error, r2_score\n",
    "#Validation\n",
    "from sklearn.model_selection import cross_validate, RepeatedStratifiedKFold\n",
    "\n",
    "df= pd.read_csv('https://raw.githubusercontent.com/ricardorocha86/Datasets/master/PesquisaDH/datahackers-survey-2019-anonymous-responses.csv')"
   ]
  },
  {
   "cell_type": "code",
   "execution_count": 137,
   "id": "41e8f442",
   "metadata": {},
   "outputs": [
    {
     "data": {
      "text/html": [
       "<div>\n",
       "<style scoped>\n",
       "    .dataframe tbody tr th:only-of-type {\n",
       "        vertical-align: middle;\n",
       "    }\n",
       "\n",
       "    .dataframe tbody tr th {\n",
       "        vertical-align: top;\n",
       "    }\n",
       "\n",
       "    .dataframe thead th {\n",
       "        text-align: right;\n",
       "    }\n",
       "</style>\n",
       "<table border=\"1\" class=\"dataframe\">\n",
       "  <thead>\n",
       "    <tr style=\"text-align: right;\">\n",
       "      <th></th>\n",
       "      <th>('P0', 'id')</th>\n",
       "      <th>('P1', 'age')</th>\n",
       "      <th>('P2', 'gender')</th>\n",
       "      <th>('P3', 'living_in_brasil')</th>\n",
       "      <th>('P5', 'living_state')</th>\n",
       "      <th>('P6', 'born_or_graduated')</th>\n",
       "      <th>('P8', 'degreee_level')</th>\n",
       "      <th>('P10', 'job_situation')</th>\n",
       "      <th>('P12', 'workers_number')</th>\n",
       "      <th>('P13', 'manager')</th>\n",
       "      <th>('P16', 'salary_range')</th>\n",
       "      <th>('P17', 'time_experience_data_science')</th>\n",
       "      <th>('P18', 'time_experience_before')</th>\n",
       "      <th>('P19', 'is_data_science_professional')</th>\n",
       "      <th>('P20', 'linear_regression')</th>\n",
       "      <th>('P20', 'logistic_regression')</th>\n",
       "      <th>('P20', 'glms')</th>\n",
       "      <th>('P20', 'decision_tree')</th>\n",
       "      <th>('P20', 'random_forest')</th>\n",
       "      <th>('P20', 'neural_networks')</th>\n",
       "      <th>('P20', 'bayesian_inference')</th>\n",
       "      <th>('P20', 'ensemble')</th>\n",
       "      <th>('P20', 'svms')</th>\n",
       "      <th>('P20', 'cnns')</th>\n",
       "      <th>('P20', 'rnns')</th>\n",
       "      <th>('P20', 'hmms')</th>\n",
       "      <th>('P20', 'gans')</th>\n",
       "      <th>('P20', 'markov_chains')</th>\n",
       "      <th>('P20', 'nlp')</th>\n",
       "      <th>('P20', 'gradient_boosted_machines')</th>\n",
       "      <th>('P20', 'cluster_analysis')</th>\n",
       "      <th>('P20', 'survival_analysis')</th>\n",
       "      <th>('P20', 'longitudinal_data_analysis')</th>\n",
       "      <th>('P20', 'joint analysis')</th>\n",
       "      <th>('P20', 'no_listed_methods')</th>\n",
       "      <th>('P21', 'sql_')</th>\n",
       "      <th>('P21', 'r')</th>\n",
       "      <th>('P21', 'python')</th>\n",
       "      <th>('P21', 'c_c++_c#')</th>\n",
       "      <th>('P21', 'dotnet')</th>\n",
       "      <th>('P21', 'java')</th>\n",
       "      <th>('P21', 'julia')</th>\n",
       "      <th>('P21', 'sas_stata')</th>\n",
       "      <th>('P21', 'visual_basic_vba')</th>\n",
       "      <th>('P21', 'scala')</th>\n",
       "      <th>('P21', 'matlab')</th>\n",
       "      <th>('P21', 'php')</th>\n",
       "      <th>('P21', 'no_listed_languages')</th>\n",
       "      <th>('P22', 'most_used_proggraming_languages')</th>\n",
       "      <th>('P23', 'sql')</th>\n",
       "      <th>('P23', 'nosql')</th>\n",
       "      <th>('P23', 'images')</th>\n",
       "      <th>('P23', 'nlp')</th>\n",
       "      <th>('P23', 'videos')</th>\n",
       "      <th>('P23', 'sheets')</th>\n",
       "      <th>('P23', 'other')</th>\n",
       "      <th>('P24', 'sql')</th>\n",
       "      <th>('P24', 'nosql')</th>\n",
       "      <th>('P24', 'imagens')</th>\n",
       "      <th>('P24', 'nlp')</th>\n",
       "      <th>('P24', 'vídeos')</th>\n",
       "      <th>('P24', 'planilhas')</th>\n",
       "      <th>('P24', 'other')</th>\n",
       "      <th>('P25', 'aws')</th>\n",
       "      <th>('P25', 'gcp')</th>\n",
       "      <th>('P25', 'azure')</th>\n",
       "      <th>('P25', 'ibm')</th>\n",
       "      <th>('P25', 'on_premise_servers')</th>\n",
       "      <th>('P25', 'cloud_própria')</th>\n",
       "      <th>('P25', 'other')</th>\n",
       "      <th>('P26', 'mysql')</th>\n",
       "      <th>('P26', 'oracle')</th>\n",
       "      <th>('P26', 'sql_server')</th>\n",
       "      <th>('P26', 'aurora')</th>\n",
       "      <th>('P26', 'dynamodb')</th>\n",
       "      <th>('P26', 'coachdb')</th>\n",
       "      <th>('P26', 'cassandra')</th>\n",
       "      <th>('P26', 'mongodb')</th>\n",
       "      <th>('P26', 'mariadb')</th>\n",
       "      <th>('P26', 'datomic')</th>\n",
       "      <th>('P26', 's3')</th>\n",
       "      <th>('P26', 'postgresql')</th>\n",
       "      <th>('P26', 'elaticsearch')</th>\n",
       "      <th>('P26', 'db2')</th>\n",
       "      <th>('P26', 'ms_access')</th>\n",
       "      <th>('P26', 'sqlite')</th>\n",
       "      <th>('P26', 'sybase')</th>\n",
       "      <th>('P26', 'firebase')</th>\n",
       "      <th>('P26', 'vertica')</th>\n",
       "      <th>('P26', 'redis')</th>\n",
       "      <th>('P26', 'neo4j')</th>\n",
       "      <th>('P26', 'google_bigtable')</th>\n",
       "      <th>('P26', 'hbase')</th>\n",
       "      <th>('P26', 'other')</th>\n",
       "      <th>('P27', 'microsoft_powerbi')</th>\n",
       "      <th>('P27', 'qlik_view_qlik_sense')</th>\n",
       "      <th>('P27', 'tableau')</th>\n",
       "      <th>('P27', 'metabase')</th>\n",
       "      <th>('P27', 'superset')</th>\n",
       "      <th>('P27', 'redash')</th>\n",
       "      <th>('P27', 'microstrategy')</th>\n",
       "      <th>('P27', 'ibm_analytics_cognos')</th>\n",
       "      <th>('P27', 'sap_business_objects')</th>\n",
       "      <th>('P27', 'oracle_business_intelligence')</th>\n",
       "      <th>('P27', 'birst')</th>\n",
       "      <th>('P27', 'looker')</th>\n",
       "      <th>('P27', 'google_data_studio')</th>\n",
       "      <th>('P27', 'only_excel_gsheets')</th>\n",
       "      <th>('P27', 'no_bi_tool_at_work')</th>\n",
       "      <th>('P27', 'other')</th>\n",
       "      <th>('P28', 'sql_&amp;_stored_procedures')</th>\n",
       "      <th>('P28', 'apache_airflow')</th>\n",
       "      <th>('P28', 'luigi')</th>\n",
       "      <th>('P28', 'aws_glue')</th>\n",
       "      <th>('P28', 'talend')</th>\n",
       "      <th>('P28', 'pentaho')</th>\n",
       "      <th>('P28', 'alteryx')</th>\n",
       "      <th>('P28', 'oracle_data_integrator')</th>\n",
       "      <th>('P28', 'ibm_data_stage')</th>\n",
       "      <th>('P28', 'sap_bw_etl')</th>\n",
       "      <th>('P28', 'siss_sql_server_integration_services')</th>\n",
       "      <th>('P28', 'other')</th>\n",
       "      <th>('P29', 'have_data_warehouse')</th>\n",
       "      <th>('P30', 'google_bigquery')</th>\n",
       "      <th>('P30', 'aws_redshift')</th>\n",
       "      <th>('P30', 'snowflake')</th>\n",
       "      <th>('P30', 'oracle')</th>\n",
       "      <th>('P30', 'postgres_mysql')</th>\n",
       "      <th>('P30', 'ibm')</th>\n",
       "      <th>('P30', 'teradata')</th>\n",
       "      <th>('P30', 'microsoft_azure')</th>\n",
       "      <th>('P30', 'do_not_know')</th>\n",
       "      <th>('P30', 'other')</th>\n",
       "      <th>('P31', 'data_hackers_blog')</th>\n",
       "      <th>('P31', 'data_hackers_podcast')</th>\n",
       "      <th>('P31', 'weekly_newsletter')</th>\n",
       "      <th>('P31', 'slack_channel')</th>\n",
       "      <th>('P31', 'data_hackers_bootcamp')</th>\n",
       "      <th>('P31', 'do_not_know_data_hackers')</th>\n",
       "      <th>('P32', 'prefered_data_hackers_initiative')</th>\n",
       "      <th>('P33', 'telegram_groups')</th>\n",
       "      <th>('P33', 'whatsapp_groups')</th>\n",
       "      <th>('P33', 'youtube_channels')</th>\n",
       "      <th>('P33', 'other_brasilian_blogs')</th>\n",
       "      <th>('P33', 'other_slack_channels')</th>\n",
       "      <th>('P33', 'twitter')</th>\n",
       "      <th>('P33', 'abroad_blogs')</th>\n",
       "      <th>('P33', 'abroad_podcasts')</th>\n",
       "      <th>('P33', 'meetups_and_events')</th>\n",
       "      <th>('P33', 'only_data_hackers')</th>\n",
       "      <th>('P33', 'other')</th>\n",
       "      <th>('P34', 'udacity')</th>\n",
       "      <th>('P34', 'coursera')</th>\n",
       "      <th>('P34', 'udemy')</th>\n",
       "      <th>('P34', 'height')</th>\n",
       "      <th>('P34', 'edx')</th>\n",
       "      <th>('P34', 'data_camp')</th>\n",
       "      <th>('P34', 'data_quest')</th>\n",
       "      <th>('P34', 'kaggle_learn')</th>\n",
       "      <th>('P34', 'online_courses')</th>\n",
       "      <th>('P34', 'other')</th>\n",
       "      <th>('P35', 'data_science_plataforms_preference')</th>\n",
       "      <th>('P35', 'other')</th>\n",
       "      <th>('P36', 'draw_participation')</th>\n",
       "      <th>('D1', 'living_macroregion')</th>\n",
       "      <th>('D2', 'origin_macroregion')</th>\n",
       "      <th>('D3', 'anonymized_degree_area')</th>\n",
       "      <th>('D4', 'anonymized_market_sector')</th>\n",
       "      <th>('D5', 'anonymized_manager_level')</th>\n",
       "      <th>('D6', 'anonymized_role')</th>\n",
       "    </tr>\n",
       "  </thead>\n",
       "  <tbody>\n",
       "    <tr>\n",
       "      <th>0</th>\n",
       "      <td>v9otv8j9wdvjrv9otvwnn9owhzq54ktv</td>\n",
       "      <td>37.0</td>\n",
       "      <td>Masculino</td>\n",
       "      <td>1</td>\n",
       "      <td>Minas Gerais (MG)</td>\n",
       "      <td>1.0</td>\n",
       "      <td>Estudante de Graduação</td>\n",
       "      <td>Empregado (CTL)</td>\n",
       "      <td>de 1 a 5</td>\n",
       "      <td>0.0</td>\n",
       "      <td>de R$ 1.001/mês a R$ 2.000/mês</td>\n",
       "      <td>Não tenho experiência na área de dados</td>\n",
       "      <td>Não tive experiência na área de TI/Engenharia ...</td>\n",
       "      <td>0</td>\n",
       "      <td>0</td>\n",
       "      <td>0</td>\n",
       "      <td>0</td>\n",
       "      <td>0</td>\n",
       "      <td>0</td>\n",
       "      <td>0</td>\n",
       "      <td>0</td>\n",
       "      <td>0</td>\n",
       "      <td>0</td>\n",
       "      <td>0</td>\n",
       "      <td>0</td>\n",
       "      <td>0</td>\n",
       "      <td>0</td>\n",
       "      <td>0</td>\n",
       "      <td>0</td>\n",
       "      <td>0</td>\n",
       "      <td>0</td>\n",
       "      <td>0</td>\n",
       "      <td>0</td>\n",
       "      <td>0</td>\n",
       "      <td>0</td>\n",
       "      <td>0</td>\n",
       "      <td>0</td>\n",
       "      <td>0</td>\n",
       "      <td>0</td>\n",
       "      <td>0</td>\n",
       "      <td>0</td>\n",
       "      <td>0</td>\n",
       "      <td>0</td>\n",
       "      <td>0</td>\n",
       "      <td>0</td>\n",
       "      <td>0</td>\n",
       "      <td>0</td>\n",
       "      <td>0</td>\n",
       "      <td>NaN</td>\n",
       "      <td>0</td>\n",
       "      <td>0</td>\n",
       "      <td>0</td>\n",
       "      <td>0</td>\n",
       "      <td>0</td>\n",
       "      <td>0</td>\n",
       "      <td>0</td>\n",
       "      <td>0</td>\n",
       "      <td>0</td>\n",
       "      <td>0</td>\n",
       "      <td>0</td>\n",
       "      <td>0</td>\n",
       "      <td>0</td>\n",
       "      <td>0</td>\n",
       "      <td>0</td>\n",
       "      <td>0</td>\n",
       "      <td>0</td>\n",
       "      <td>0</td>\n",
       "      <td>0</td>\n",
       "      <td>0</td>\n",
       "      <td>0</td>\n",
       "      <td>0</td>\n",
       "      <td>0</td>\n",
       "      <td>0</td>\n",
       "      <td>0</td>\n",
       "      <td>0</td>\n",
       "      <td>0</td>\n",
       "      <td>0</td>\n",
       "      <td>0</td>\n",
       "      <td>0</td>\n",
       "      <td>0</td>\n",
       "      <td>0</td>\n",
       "      <td>0</td>\n",
       "      <td>0</td>\n",
       "      <td>0</td>\n",
       "      <td>0</td>\n",
       "      <td>0</td>\n",
       "      <td>0</td>\n",
       "      <td>0</td>\n",
       "      <td>0</td>\n",
       "      <td>0</td>\n",
       "      <td>0</td>\n",
       "      <td>0</td>\n",
       "      <td>0</td>\n",
       "      <td>0</td>\n",
       "      <td>0</td>\n",
       "      <td>0</td>\n",
       "      <td>0</td>\n",
       "      <td>0</td>\n",
       "      <td>0</td>\n",
       "      <td>0</td>\n",
       "      <td>0</td>\n",
       "      <td>0</td>\n",
       "      <td>0</td>\n",
       "      <td>0</td>\n",
       "      <td>0</td>\n",
       "      <td>0</td>\n",
       "      <td>0</td>\n",
       "      <td>0</td>\n",
       "      <td>0</td>\n",
       "      <td>0</td>\n",
       "      <td>0</td>\n",
       "      <td>0</td>\n",
       "      <td>0</td>\n",
       "      <td>0</td>\n",
       "      <td>0</td>\n",
       "      <td>0</td>\n",
       "      <td>0</td>\n",
       "      <td>0</td>\n",
       "      <td>0</td>\n",
       "      <td>0</td>\n",
       "      <td>0</td>\n",
       "      <td>0</td>\n",
       "      <td>NaN</td>\n",
       "      <td>0</td>\n",
       "      <td>0</td>\n",
       "      <td>0</td>\n",
       "      <td>0</td>\n",
       "      <td>0</td>\n",
       "      <td>0</td>\n",
       "      <td>0</td>\n",
       "      <td>0</td>\n",
       "      <td>0</td>\n",
       "      <td>0</td>\n",
       "      <td>0</td>\n",
       "      <td>0</td>\n",
       "      <td>0</td>\n",
       "      <td>0</td>\n",
       "      <td>0</td>\n",
       "      <td>1</td>\n",
       "      <td>Ainda não conhecia o Data Hackers</td>\n",
       "      <td>0</td>\n",
       "      <td>0</td>\n",
       "      <td>1</td>\n",
       "      <td>0</td>\n",
       "      <td>0</td>\n",
       "      <td>0</td>\n",
       "      <td>0</td>\n",
       "      <td>0</td>\n",
       "      <td>0</td>\n",
       "      <td>0</td>\n",
       "      <td>0</td>\n",
       "      <td>0</td>\n",
       "      <td>0</td>\n",
       "      <td>0</td>\n",
       "      <td>0</td>\n",
       "      <td>0</td>\n",
       "      <td>0</td>\n",
       "      <td>0</td>\n",
       "      <td>0</td>\n",
       "      <td>1</td>\n",
       "      <td>0</td>\n",
       "      <td>Nunca fiz cursos online</td>\n",
       "      <td>NaN</td>\n",
       "      <td>1.0</td>\n",
       "      <td>Região Sudeste</td>\n",
       "      <td>NaN</td>\n",
       "      <td>Computação / Engenharia de Software / Sistemas...</td>\n",
       "      <td>Outras</td>\n",
       "      <td>NaN</td>\n",
       "      <td>Outras</td>\n",
       "    </tr>\n",
       "    <tr>\n",
       "      <th>1</th>\n",
       "      <td>875ul998t0hqcv0871uptwf3oswcfv35</td>\n",
       "      <td>24.0</td>\n",
       "      <td>Feminino</td>\n",
       "      <td>1</td>\n",
       "      <td>São Paulo (SP)</td>\n",
       "      <td>1.0</td>\n",
       "      <td>Estudante de Graduação</td>\n",
       "      <td>Empregado (CTL)</td>\n",
       "      <td>Acima de 3000</td>\n",
       "      <td>0.0</td>\n",
       "      <td>de R$ 2.001/mês a R$ 3000/mês</td>\n",
       "      <td>Menos de 1 ano</td>\n",
       "      <td>Não tive experiência na área de TI/Engenharia ...</td>\n",
       "      <td>1</td>\n",
       "      <td>0</td>\n",
       "      <td>0</td>\n",
       "      <td>0</td>\n",
       "      <td>0</td>\n",
       "      <td>0</td>\n",
       "      <td>0</td>\n",
       "      <td>0</td>\n",
       "      <td>0</td>\n",
       "      <td>0</td>\n",
       "      <td>0</td>\n",
       "      <td>0</td>\n",
       "      <td>0</td>\n",
       "      <td>0</td>\n",
       "      <td>0</td>\n",
       "      <td>0</td>\n",
       "      <td>0</td>\n",
       "      <td>0</td>\n",
       "      <td>0</td>\n",
       "      <td>0</td>\n",
       "      <td>0</td>\n",
       "      <td>1</td>\n",
       "      <td>1</td>\n",
       "      <td>0</td>\n",
       "      <td>1</td>\n",
       "      <td>0</td>\n",
       "      <td>0</td>\n",
       "      <td>0</td>\n",
       "      <td>0</td>\n",
       "      <td>0</td>\n",
       "      <td>0</td>\n",
       "      <td>0</td>\n",
       "      <td>0</td>\n",
       "      <td>0</td>\n",
       "      <td>0</td>\n",
       "      <td>Python</td>\n",
       "      <td>1</td>\n",
       "      <td>0</td>\n",
       "      <td>0</td>\n",
       "      <td>0</td>\n",
       "      <td>0</td>\n",
       "      <td>0</td>\n",
       "      <td>0</td>\n",
       "      <td>1</td>\n",
       "      <td>0</td>\n",
       "      <td>0</td>\n",
       "      <td>0</td>\n",
       "      <td>0</td>\n",
       "      <td>0</td>\n",
       "      <td>0</td>\n",
       "      <td>1</td>\n",
       "      <td>0</td>\n",
       "      <td>0</td>\n",
       "      <td>0</td>\n",
       "      <td>0</td>\n",
       "      <td>0</td>\n",
       "      <td>0</td>\n",
       "      <td>0</td>\n",
       "      <td>1</td>\n",
       "      <td>0</td>\n",
       "      <td>0</td>\n",
       "      <td>0</td>\n",
       "      <td>0</td>\n",
       "      <td>0</td>\n",
       "      <td>0</td>\n",
       "      <td>0</td>\n",
       "      <td>0</td>\n",
       "      <td>1</td>\n",
       "      <td>0</td>\n",
       "      <td>0</td>\n",
       "      <td>0</td>\n",
       "      <td>0</td>\n",
       "      <td>0</td>\n",
       "      <td>0</td>\n",
       "      <td>0</td>\n",
       "      <td>0</td>\n",
       "      <td>0</td>\n",
       "      <td>0</td>\n",
       "      <td>0</td>\n",
       "      <td>0</td>\n",
       "      <td>0</td>\n",
       "      <td>1</td>\n",
       "      <td>0</td>\n",
       "      <td>0</td>\n",
       "      <td>0</td>\n",
       "      <td>0</td>\n",
       "      <td>0</td>\n",
       "      <td>0</td>\n",
       "      <td>0</td>\n",
       "      <td>0</td>\n",
       "      <td>0</td>\n",
       "      <td>0</td>\n",
       "      <td>0</td>\n",
       "      <td>0</td>\n",
       "      <td>0</td>\n",
       "      <td>0</td>\n",
       "      <td>0</td>\n",
       "      <td>1</td>\n",
       "      <td>0</td>\n",
       "      <td>0</td>\n",
       "      <td>0</td>\n",
       "      <td>0</td>\n",
       "      <td>0</td>\n",
       "      <td>0</td>\n",
       "      <td>0</td>\n",
       "      <td>0</td>\n",
       "      <td>0</td>\n",
       "      <td>0</td>\n",
       "      <td>0</td>\n",
       "      <td>0.0</td>\n",
       "      <td>0</td>\n",
       "      <td>0</td>\n",
       "      <td>0</td>\n",
       "      <td>0</td>\n",
       "      <td>0</td>\n",
       "      <td>0</td>\n",
       "      <td>0</td>\n",
       "      <td>0</td>\n",
       "      <td>0</td>\n",
       "      <td>0</td>\n",
       "      <td>0</td>\n",
       "      <td>0</td>\n",
       "      <td>0</td>\n",
       "      <td>0</td>\n",
       "      <td>0</td>\n",
       "      <td>1</td>\n",
       "      <td>Ainda não conhecia o Data Hackers</td>\n",
       "      <td>0</td>\n",
       "      <td>0</td>\n",
       "      <td>1</td>\n",
       "      <td>0</td>\n",
       "      <td>0</td>\n",
       "      <td>0</td>\n",
       "      <td>0</td>\n",
       "      <td>0</td>\n",
       "      <td>0</td>\n",
       "      <td>0</td>\n",
       "      <td>0</td>\n",
       "      <td>0</td>\n",
       "      <td>0</td>\n",
       "      <td>1</td>\n",
       "      <td>0</td>\n",
       "      <td>0</td>\n",
       "      <td>0</td>\n",
       "      <td>0</td>\n",
       "      <td>0</td>\n",
       "      <td>0</td>\n",
       "      <td>1</td>\n",
       "      <td>NaN</td>\n",
       "      <td>Data Science Academy</td>\n",
       "      <td>0.0</td>\n",
       "      <td>Região Sudeste</td>\n",
       "      <td>NaN</td>\n",
       "      <td>Computação / Engenharia de Software / Sistemas...</td>\n",
       "      <td>Educação</td>\n",
       "      <td>NaN</td>\n",
       "      <td>Data Analyst/Analista de Dados</td>\n",
       "    </tr>\n",
       "    <tr>\n",
       "      <th>2</th>\n",
       "      <td>puscuk079vw1pusbb900pzw2xvpxtgdk</td>\n",
       "      <td>26.0</td>\n",
       "      <td>Masculino</td>\n",
       "      <td>1</td>\n",
       "      <td>São Paulo (SP)</td>\n",
       "      <td>1.0</td>\n",
       "      <td>Graduação/Bacharelado</td>\n",
       "      <td>Empregado (CTL)</td>\n",
       "      <td>Acima de 3000</td>\n",
       "      <td>0.0</td>\n",
       "      <td>de R$ 4.001/mês a R$ 6.000/mês</td>\n",
       "      <td>de 1 a 2 anos</td>\n",
       "      <td>de 6 a 10 anos</td>\n",
       "      <td>1</td>\n",
       "      <td>0</td>\n",
       "      <td>0</td>\n",
       "      <td>0</td>\n",
       "      <td>0</td>\n",
       "      <td>1</td>\n",
       "      <td>1</td>\n",
       "      <td>0</td>\n",
       "      <td>1</td>\n",
       "      <td>1</td>\n",
       "      <td>0</td>\n",
       "      <td>0</td>\n",
       "      <td>0</td>\n",
       "      <td>0</td>\n",
       "      <td>0</td>\n",
       "      <td>0</td>\n",
       "      <td>0</td>\n",
       "      <td>1</td>\n",
       "      <td>0</td>\n",
       "      <td>0</td>\n",
       "      <td>0</td>\n",
       "      <td>0</td>\n",
       "      <td>0</td>\n",
       "      <td>0</td>\n",
       "      <td>1</td>\n",
       "      <td>0</td>\n",
       "      <td>0</td>\n",
       "      <td>0</td>\n",
       "      <td>0</td>\n",
       "      <td>0</td>\n",
       "      <td>0</td>\n",
       "      <td>0</td>\n",
       "      <td>0</td>\n",
       "      <td>0</td>\n",
       "      <td>0</td>\n",
       "      <td>Python</td>\n",
       "      <td>0</td>\n",
       "      <td>0</td>\n",
       "      <td>0</td>\n",
       "      <td>0</td>\n",
       "      <td>0</td>\n",
       "      <td>1</td>\n",
       "      <td>0</td>\n",
       "      <td>0</td>\n",
       "      <td>0</td>\n",
       "      <td>0</td>\n",
       "      <td>0</td>\n",
       "      <td>0</td>\n",
       "      <td>1</td>\n",
       "      <td>0</td>\n",
       "      <td>0</td>\n",
       "      <td>0</td>\n",
       "      <td>0</td>\n",
       "      <td>0</td>\n",
       "      <td>0</td>\n",
       "      <td>1</td>\n",
       "      <td>0</td>\n",
       "      <td>0</td>\n",
       "      <td>0</td>\n",
       "      <td>0</td>\n",
       "      <td>0</td>\n",
       "      <td>0</td>\n",
       "      <td>0</td>\n",
       "      <td>0</td>\n",
       "      <td>0</td>\n",
       "      <td>0</td>\n",
       "      <td>0</td>\n",
       "      <td>0</td>\n",
       "      <td>0</td>\n",
       "      <td>0</td>\n",
       "      <td>0</td>\n",
       "      <td>0</td>\n",
       "      <td>0</td>\n",
       "      <td>0</td>\n",
       "      <td>0</td>\n",
       "      <td>0</td>\n",
       "      <td>0</td>\n",
       "      <td>0</td>\n",
       "      <td>0</td>\n",
       "      <td>0</td>\n",
       "      <td>1</td>\n",
       "      <td>0</td>\n",
       "      <td>0</td>\n",
       "      <td>1</td>\n",
       "      <td>0</td>\n",
       "      <td>0</td>\n",
       "      <td>0</td>\n",
       "      <td>0</td>\n",
       "      <td>0</td>\n",
       "      <td>0</td>\n",
       "      <td>0</td>\n",
       "      <td>0</td>\n",
       "      <td>0</td>\n",
       "      <td>0</td>\n",
       "      <td>0</td>\n",
       "      <td>0</td>\n",
       "      <td>0</td>\n",
       "      <td>0</td>\n",
       "      <td>0</td>\n",
       "      <td>0</td>\n",
       "      <td>0</td>\n",
       "      <td>0</td>\n",
       "      <td>0</td>\n",
       "      <td>0</td>\n",
       "      <td>0</td>\n",
       "      <td>0</td>\n",
       "      <td>0</td>\n",
       "      <td>0</td>\n",
       "      <td>1</td>\n",
       "      <td>0.0</td>\n",
       "      <td>0</td>\n",
       "      <td>0</td>\n",
       "      <td>0</td>\n",
       "      <td>0</td>\n",
       "      <td>0</td>\n",
       "      <td>0</td>\n",
       "      <td>0</td>\n",
       "      <td>0</td>\n",
       "      <td>0</td>\n",
       "      <td>0</td>\n",
       "      <td>0</td>\n",
       "      <td>1</td>\n",
       "      <td>1</td>\n",
       "      <td>0</td>\n",
       "      <td>0</td>\n",
       "      <td>0</td>\n",
       "      <td>Newsletter Semanal</td>\n",
       "      <td>0</td>\n",
       "      <td>0</td>\n",
       "      <td>0</td>\n",
       "      <td>1</td>\n",
       "      <td>0</td>\n",
       "      <td>0</td>\n",
       "      <td>0</td>\n",
       "      <td>0</td>\n",
       "      <td>0</td>\n",
       "      <td>0</td>\n",
       "      <td>0</td>\n",
       "      <td>0</td>\n",
       "      <td>1</td>\n",
       "      <td>1</td>\n",
       "      <td>0</td>\n",
       "      <td>0</td>\n",
       "      <td>0</td>\n",
       "      <td>0</td>\n",
       "      <td>1</td>\n",
       "      <td>0</td>\n",
       "      <td>0</td>\n",
       "      <td>Udemy</td>\n",
       "      <td>NaN</td>\n",
       "      <td>1.0</td>\n",
       "      <td>Região Sudeste</td>\n",
       "      <td>NaN</td>\n",
       "      <td>Outras Engenharias</td>\n",
       "      <td>Indústria (Manufatura)</td>\n",
       "      <td>NaN</td>\n",
       "      <td>Outras</td>\n",
       "    </tr>\n",
       "    <tr>\n",
       "      <th>3</th>\n",
       "      <td>rmel8ewqpbffp2mnfbzermel8eqincov</td>\n",
       "      <td>21.0</td>\n",
       "      <td>Masculino</td>\n",
       "      <td>1</td>\n",
       "      <td>São Paulo (SP)</td>\n",
       "      <td>0.0</td>\n",
       "      <td>Estudante de Graduação</td>\n",
       "      <td>Estagiário</td>\n",
       "      <td>de 11 a 50</td>\n",
       "      <td>0.0</td>\n",
       "      <td>de R$ 1.001/mês a R$ 2.000/mês</td>\n",
       "      <td>Menos de 1 ano</td>\n",
       "      <td>de 2 a 3 anos</td>\n",
       "      <td>1</td>\n",
       "      <td>0</td>\n",
       "      <td>0</td>\n",
       "      <td>0</td>\n",
       "      <td>0</td>\n",
       "      <td>1</td>\n",
       "      <td>0</td>\n",
       "      <td>0</td>\n",
       "      <td>0</td>\n",
       "      <td>0</td>\n",
       "      <td>0</td>\n",
       "      <td>0</td>\n",
       "      <td>0</td>\n",
       "      <td>0</td>\n",
       "      <td>0</td>\n",
       "      <td>0</td>\n",
       "      <td>0</td>\n",
       "      <td>0</td>\n",
       "      <td>0</td>\n",
       "      <td>0</td>\n",
       "      <td>0</td>\n",
       "      <td>0</td>\n",
       "      <td>1</td>\n",
       "      <td>0</td>\n",
       "      <td>1</td>\n",
       "      <td>0</td>\n",
       "      <td>0</td>\n",
       "      <td>0</td>\n",
       "      <td>0</td>\n",
       "      <td>0</td>\n",
       "      <td>0</td>\n",
       "      <td>0</td>\n",
       "      <td>0</td>\n",
       "      <td>0</td>\n",
       "      <td>0</td>\n",
       "      <td>SQL</td>\n",
       "      <td>1</td>\n",
       "      <td>0</td>\n",
       "      <td>0</td>\n",
       "      <td>0</td>\n",
       "      <td>0</td>\n",
       "      <td>0</td>\n",
       "      <td>0</td>\n",
       "      <td>1</td>\n",
       "      <td>0</td>\n",
       "      <td>0</td>\n",
       "      <td>0</td>\n",
       "      <td>0</td>\n",
       "      <td>0</td>\n",
       "      <td>0</td>\n",
       "      <td>1</td>\n",
       "      <td>0</td>\n",
       "      <td>0</td>\n",
       "      <td>0</td>\n",
       "      <td>0</td>\n",
       "      <td>0</td>\n",
       "      <td>0</td>\n",
       "      <td>0</td>\n",
       "      <td>0</td>\n",
       "      <td>0</td>\n",
       "      <td>0</td>\n",
       "      <td>0</td>\n",
       "      <td>0</td>\n",
       "      <td>0</td>\n",
       "      <td>0</td>\n",
       "      <td>0</td>\n",
       "      <td>0</td>\n",
       "      <td>0</td>\n",
       "      <td>0</td>\n",
       "      <td>0</td>\n",
       "      <td>0</td>\n",
       "      <td>0</td>\n",
       "      <td>0</td>\n",
       "      <td>0</td>\n",
       "      <td>0</td>\n",
       "      <td>0</td>\n",
       "      <td>0</td>\n",
       "      <td>0</td>\n",
       "      <td>0</td>\n",
       "      <td>0</td>\n",
       "      <td>1</td>\n",
       "      <td>0</td>\n",
       "      <td>0</td>\n",
       "      <td>0</td>\n",
       "      <td>0</td>\n",
       "      <td>0</td>\n",
       "      <td>0</td>\n",
       "      <td>0</td>\n",
       "      <td>0</td>\n",
       "      <td>0</td>\n",
       "      <td>0</td>\n",
       "      <td>0</td>\n",
       "      <td>0</td>\n",
       "      <td>0</td>\n",
       "      <td>0</td>\n",
       "      <td>0</td>\n",
       "      <td>1</td>\n",
       "      <td>0</td>\n",
       "      <td>0</td>\n",
       "      <td>0</td>\n",
       "      <td>0</td>\n",
       "      <td>0</td>\n",
       "      <td>1</td>\n",
       "      <td>0</td>\n",
       "      <td>0</td>\n",
       "      <td>0</td>\n",
       "      <td>0</td>\n",
       "      <td>0</td>\n",
       "      <td>0</td>\n",
       "      <td>1.0</td>\n",
       "      <td>0</td>\n",
       "      <td>1</td>\n",
       "      <td>0</td>\n",
       "      <td>0</td>\n",
       "      <td>0</td>\n",
       "      <td>0</td>\n",
       "      <td>0</td>\n",
       "      <td>0</td>\n",
       "      <td>0</td>\n",
       "      <td>0</td>\n",
       "      <td>0</td>\n",
       "      <td>0</td>\n",
       "      <td>0</td>\n",
       "      <td>0</td>\n",
       "      <td>0</td>\n",
       "      <td>1</td>\n",
       "      <td>Ainda não conhecia o Data Hackers</td>\n",
       "      <td>0</td>\n",
       "      <td>1</td>\n",
       "      <td>0</td>\n",
       "      <td>0</td>\n",
       "      <td>0</td>\n",
       "      <td>0</td>\n",
       "      <td>0</td>\n",
       "      <td>1</td>\n",
       "      <td>0</td>\n",
       "      <td>0</td>\n",
       "      <td>0</td>\n",
       "      <td>0</td>\n",
       "      <td>1</td>\n",
       "      <td>1</td>\n",
       "      <td>1</td>\n",
       "      <td>0</td>\n",
       "      <td>0</td>\n",
       "      <td>0</td>\n",
       "      <td>0</td>\n",
       "      <td>0</td>\n",
       "      <td>0</td>\n",
       "      <td>Alura</td>\n",
       "      <td>NaN</td>\n",
       "      <td>1.0</td>\n",
       "      <td>Região Sudeste</td>\n",
       "      <td>Região Sudeste</td>\n",
       "      <td>Computação / Engenharia de Software / Sistemas...</td>\n",
       "      <td>Tecnologia/Fábrica de Software</td>\n",
       "      <td>NaN</td>\n",
       "      <td>Business Intelligence/Analista de BI</td>\n",
       "    </tr>\n",
       "    <tr>\n",
       "      <th>4</th>\n",
       "      <td>pj9mgud4d6mdct1l7vq0pj9mgu78h6ju</td>\n",
       "      <td>27.0</td>\n",
       "      <td>Masculino</td>\n",
       "      <td>1</td>\n",
       "      <td>NaN</td>\n",
       "      <td>1.0</td>\n",
       "      <td>Graduação/Bacharelado</td>\n",
       "      <td>Freelancer</td>\n",
       "      <td>de 6 a 10</td>\n",
       "      <td>1.0</td>\n",
       "      <td>de R$ 6.001/mês a R$ 8.000/mês</td>\n",
       "      <td>de 4 a 5 anos</td>\n",
       "      <td>de 4 a 5 anos</td>\n",
       "      <td>1</td>\n",
       "      <td>1</td>\n",
       "      <td>0</td>\n",
       "      <td>0</td>\n",
       "      <td>1</td>\n",
       "      <td>1</td>\n",
       "      <td>0</td>\n",
       "      <td>0</td>\n",
       "      <td>1</td>\n",
       "      <td>1</td>\n",
       "      <td>0</td>\n",
       "      <td>1</td>\n",
       "      <td>0</td>\n",
       "      <td>0</td>\n",
       "      <td>0</td>\n",
       "      <td>1</td>\n",
       "      <td>0</td>\n",
       "      <td>0</td>\n",
       "      <td>0</td>\n",
       "      <td>0</td>\n",
       "      <td>0</td>\n",
       "      <td>0</td>\n",
       "      <td>1</td>\n",
       "      <td>0</td>\n",
       "      <td>1</td>\n",
       "      <td>1</td>\n",
       "      <td>0</td>\n",
       "      <td>0</td>\n",
       "      <td>0</td>\n",
       "      <td>0</td>\n",
       "      <td>0</td>\n",
       "      <td>0</td>\n",
       "      <td>0</td>\n",
       "      <td>0</td>\n",
       "      <td>0</td>\n",
       "      <td>Python</td>\n",
       "      <td>1</td>\n",
       "      <td>1</td>\n",
       "      <td>0</td>\n",
       "      <td>1</td>\n",
       "      <td>0</td>\n",
       "      <td>1</td>\n",
       "      <td>0</td>\n",
       "      <td>0</td>\n",
       "      <td>0</td>\n",
       "      <td>0</td>\n",
       "      <td>1</td>\n",
       "      <td>0</td>\n",
       "      <td>0</td>\n",
       "      <td>0</td>\n",
       "      <td>0</td>\n",
       "      <td>0</td>\n",
       "      <td>0</td>\n",
       "      <td>0</td>\n",
       "      <td>0</td>\n",
       "      <td>0</td>\n",
       "      <td>1</td>\n",
       "      <td>1</td>\n",
       "      <td>0</td>\n",
       "      <td>0</td>\n",
       "      <td>0</td>\n",
       "      <td>0</td>\n",
       "      <td>0</td>\n",
       "      <td>0</td>\n",
       "      <td>1</td>\n",
       "      <td>1</td>\n",
       "      <td>0</td>\n",
       "      <td>0</td>\n",
       "      <td>1</td>\n",
       "      <td>1</td>\n",
       "      <td>0</td>\n",
       "      <td>0</td>\n",
       "      <td>1</td>\n",
       "      <td>0</td>\n",
       "      <td>0</td>\n",
       "      <td>0</td>\n",
       "      <td>0</td>\n",
       "      <td>0</td>\n",
       "      <td>0</td>\n",
       "      <td>0</td>\n",
       "      <td>0</td>\n",
       "      <td>0</td>\n",
       "      <td>0</td>\n",
       "      <td>0</td>\n",
       "      <td>0</td>\n",
       "      <td>0</td>\n",
       "      <td>0</td>\n",
       "      <td>0</td>\n",
       "      <td>0</td>\n",
       "      <td>0</td>\n",
       "      <td>0</td>\n",
       "      <td>0</td>\n",
       "      <td>0</td>\n",
       "      <td>0</td>\n",
       "      <td>0</td>\n",
       "      <td>1</td>\n",
       "      <td>0</td>\n",
       "      <td>0</td>\n",
       "      <td>0</td>\n",
       "      <td>0</td>\n",
       "      <td>0</td>\n",
       "      <td>0</td>\n",
       "      <td>0</td>\n",
       "      <td>0</td>\n",
       "      <td>0</td>\n",
       "      <td>0</td>\n",
       "      <td>0</td>\n",
       "      <td>0</td>\n",
       "      <td>1</td>\n",
       "      <td>0.0</td>\n",
       "      <td>0</td>\n",
       "      <td>0</td>\n",
       "      <td>0</td>\n",
       "      <td>0</td>\n",
       "      <td>0</td>\n",
       "      <td>0</td>\n",
       "      <td>0</td>\n",
       "      <td>0</td>\n",
       "      <td>0</td>\n",
       "      <td>0</td>\n",
       "      <td>1</td>\n",
       "      <td>0</td>\n",
       "      <td>0</td>\n",
       "      <td>0</td>\n",
       "      <td>0</td>\n",
       "      <td>0</td>\n",
       "      <td>Blog/Medium do Data Hackers</td>\n",
       "      <td>0</td>\n",
       "      <td>0</td>\n",
       "      <td>0</td>\n",
       "      <td>0</td>\n",
       "      <td>0</td>\n",
       "      <td>0</td>\n",
       "      <td>0</td>\n",
       "      <td>0</td>\n",
       "      <td>0</td>\n",
       "      <td>0</td>\n",
       "      <td>1</td>\n",
       "      <td>1</td>\n",
       "      <td>1</td>\n",
       "      <td>1</td>\n",
       "      <td>0</td>\n",
       "      <td>0</td>\n",
       "      <td>0</td>\n",
       "      <td>0</td>\n",
       "      <td>0</td>\n",
       "      <td>0</td>\n",
       "      <td>0</td>\n",
       "      <td>Udemy</td>\n",
       "      <td>NaN</td>\n",
       "      <td>1.0</td>\n",
       "      <td>NaN</td>\n",
       "      <td>NaN</td>\n",
       "      <td>Computação / Engenharia de Software / Sistemas...</td>\n",
       "      <td>Internet/Ecommerce</td>\n",
       "      <td>C-level (CDO, CIO, CTO)</td>\n",
       "      <td>NaN</td>\n",
       "    </tr>\n",
       "  </tbody>\n",
       "</table>\n",
       "</div>"
      ],
      "text/plain": [
       "                       ('P0', 'id')  ('P1', 'age') ('P2', 'gender')  \\\n",
       "0  v9otv8j9wdvjrv9otvwnn9owhzq54ktv           37.0        Masculino   \n",
       "1  875ul998t0hqcv0871uptwf3oswcfv35           24.0         Feminino   \n",
       "2  puscuk079vw1pusbb900pzw2xvpxtgdk           26.0        Masculino   \n",
       "3  rmel8ewqpbffp2mnfbzermel8eqincov           21.0        Masculino   \n",
       "4  pj9mgud4d6mdct1l7vq0pj9mgu78h6ju           27.0        Masculino   \n",
       "\n",
       "   ('P3', 'living_in_brasil') ('P5', 'living_state')  \\\n",
       "0                           1      Minas Gerais (MG)   \n",
       "1                           1         São Paulo (SP)   \n",
       "2                           1         São Paulo (SP)   \n",
       "3                           1         São Paulo (SP)   \n",
       "4                           1                    NaN   \n",
       "\n",
       "   ('P6', 'born_or_graduated') ('P8', 'degreee_level')  \\\n",
       "0                          1.0  Estudante de Graduação   \n",
       "1                          1.0  Estudante de Graduação   \n",
       "2                          1.0   Graduação/Bacharelado   \n",
       "3                          0.0  Estudante de Graduação   \n",
       "4                          1.0   Graduação/Bacharelado   \n",
       "\n",
       "  ('P10', 'job_situation') ('P12', 'workers_number')  ('P13', 'manager')  \\\n",
       "0          Empregado (CTL)                  de 1 a 5                 0.0   \n",
       "1          Empregado (CTL)             Acima de 3000                 0.0   \n",
       "2          Empregado (CTL)             Acima de 3000                 0.0   \n",
       "3               Estagiário                de 11 a 50                 0.0   \n",
       "4               Freelancer                 de 6 a 10                 1.0   \n",
       "\n",
       "          ('P16', 'salary_range') ('P17', 'time_experience_data_science')  \\\n",
       "0  de R$ 1.001/mês a R$ 2.000/mês  Não tenho experiência na área de dados   \n",
       "1   de R$ 2.001/mês a R$ 3000/mês                          Menos de 1 ano   \n",
       "2  de R$ 4.001/mês a R$ 6.000/mês                           de 1 a 2 anos   \n",
       "3  de R$ 1.001/mês a R$ 2.000/mês                          Menos de 1 ano   \n",
       "4  de R$ 6.001/mês a R$ 8.000/mês                           de 4 a 5 anos   \n",
       "\n",
       "                   ('P18', 'time_experience_before')  \\\n",
       "0  Não tive experiência na área de TI/Engenharia ...   \n",
       "1  Não tive experiência na área de TI/Engenharia ...   \n",
       "2                                     de 6 a 10 anos   \n",
       "3                                      de 2 a 3 anos   \n",
       "4                                      de 4 a 5 anos   \n",
       "\n",
       "   ('P19', 'is_data_science_professional')  ('P20', 'linear_regression')  \\\n",
       "0                                        0                             0   \n",
       "1                                        1                             0   \n",
       "2                                        1                             0   \n",
       "3                                        1                             0   \n",
       "4                                        1                             1   \n",
       "\n",
       "   ('P20', 'logistic_regression')  ('P20', 'glms')  ('P20', 'decision_tree')  \\\n",
       "0                               0                0                         0   \n",
       "1                               0                0                         0   \n",
       "2                               0                0                         0   \n",
       "3                               0                0                         0   \n",
       "4                               0                0                         1   \n",
       "\n",
       "   ('P20', 'random_forest')  ('P20', 'neural_networks')  \\\n",
       "0                         0                           0   \n",
       "1                         0                           0   \n",
       "2                         1                           1   \n",
       "3                         1                           0   \n",
       "4                         1                           0   \n",
       "\n",
       "   ('P20', 'bayesian_inference')  ('P20', 'ensemble')  ('P20', 'svms')  \\\n",
       "0                              0                    0                0   \n",
       "1                              0                    0                0   \n",
       "2                              0                    1                1   \n",
       "3                              0                    0                0   \n",
       "4                              0                    1                1   \n",
       "\n",
       "   ('P20', 'cnns')  ('P20', 'rnns')  ('P20', 'hmms')  ('P20', 'gans')  \\\n",
       "0                0                0                0                0   \n",
       "1                0                0                0                0   \n",
       "2                0                0                0                0   \n",
       "3                0                0                0                0   \n",
       "4                0                1                0                0   \n",
       "\n",
       "   ('P20', 'markov_chains')  ('P20', 'nlp')  \\\n",
       "0                         0               0   \n",
       "1                         0               0   \n",
       "2                         0               0   \n",
       "3                         0               0   \n",
       "4                         0               1   \n",
       "\n",
       "   ('P20', 'gradient_boosted_machines')  ('P20', 'cluster_analysis')  \\\n",
       "0                                     0                            0   \n",
       "1                                     0                            0   \n",
       "2                                     0                            1   \n",
       "3                                     0                            0   \n",
       "4                                     0                            0   \n",
       "\n",
       "   ('P20', 'survival_analysis')  ('P20', 'longitudinal_data_analysis')  \\\n",
       "0                             0                                      0   \n",
       "1                             0                                      0   \n",
       "2                             0                                      0   \n",
       "3                             0                                      0   \n",
       "4                             0                                      0   \n",
       "\n",
       "   ('P20', 'joint analysis')  ('P20', 'no_listed_methods')  ('P21', 'sql_')  \\\n",
       "0                          0                             0                0   \n",
       "1                          0                             1                1   \n",
       "2                          0                             0                0   \n",
       "3                          0                             0                1   \n",
       "4                          0                             0                1   \n",
       "\n",
       "   ('P21', 'r')  ('P21', 'python')  ('P21', 'c_c++_c#')  ('P21', 'dotnet')  \\\n",
       "0             0                  0                    0                  0   \n",
       "1             0                  1                    0                  0   \n",
       "2             0                  1                    0                  0   \n",
       "3             0                  1                    0                  0   \n",
       "4             0                  1                    1                  0   \n",
       "\n",
       "   ('P21', 'java')  ('P21', 'julia')  ('P21', 'sas_stata')  \\\n",
       "0                0                 0                     0   \n",
       "1                0                 0                     0   \n",
       "2                0                 0                     0   \n",
       "3                0                 0                     0   \n",
       "4                0                 0                     0   \n",
       "\n",
       "   ('P21', 'visual_basic_vba')  ('P21', 'scala')  ('P21', 'matlab')  \\\n",
       "0                            0                 0                  0   \n",
       "1                            0                 0                  0   \n",
       "2                            0                 0                  0   \n",
       "3                            0                 0                  0   \n",
       "4                            0                 0                  0   \n",
       "\n",
       "   ('P21', 'php')  ('P21', 'no_listed_languages')  \\\n",
       "0               0                               0   \n",
       "1               0                               0   \n",
       "2               0                               0   \n",
       "3               0                               0   \n",
       "4               0                               0   \n",
       "\n",
       "  ('P22', 'most_used_proggraming_languages')  ('P23', 'sql')  \\\n",
       "0                                        NaN               0   \n",
       "1                                     Python               1   \n",
       "2                                     Python               0   \n",
       "3                                        SQL               1   \n",
       "4                                     Python               1   \n",
       "\n",
       "   ('P23', 'nosql')  ('P23', 'images')  ('P23', 'nlp')  ('P23', 'videos')  \\\n",
       "0                 0                  0               0                  0   \n",
       "1                 0                  0               0                  0   \n",
       "2                 0                  0               0                  0   \n",
       "3                 0                  0               0                  0   \n",
       "4                 1                  0               1                  0   \n",
       "\n",
       "   ('P23', 'sheets')  ('P23', 'other')  ('P24', 'sql')  ('P24', 'nosql')  \\\n",
       "0                  0                 0               0                 0   \n",
       "1                  0                 0               1                 0   \n",
       "2                  1                 0               0                 0   \n",
       "3                  0                 0               1                 0   \n",
       "4                  1                 0               0                 0   \n",
       "\n",
       "   ('P24', 'imagens')  ('P24', 'nlp')  ('P24', 'vídeos')  \\\n",
       "0                   0               0                  0   \n",
       "1                   0               0                  0   \n",
       "2                   0               0                  0   \n",
       "3                   0               0                  0   \n",
       "4                   0               1                  0   \n",
       "\n",
       "   ('P24', 'planilhas')  ('P24', 'other')  ('P25', 'aws')  ('P25', 'gcp')  \\\n",
       "0                     0                 0               0               0   \n",
       "1                     0                 0               1               0   \n",
       "2                     1                 0               0               0   \n",
       "3                     0                 0               1               0   \n",
       "4                     0                 0               0               0   \n",
       "\n",
       "   ('P25', 'azure')  ('P25', 'ibm')  ('P25', 'on_premise_servers')  \\\n",
       "0                 0               0                              0   \n",
       "1                 0               0                              0   \n",
       "2                 0               0                              0   \n",
       "3                 0               0                              0   \n",
       "4                 0               0                              0   \n",
       "\n",
       "   ('P25', 'cloud_própria')  ('P25', 'other')  ('P26', 'mysql')  \\\n",
       "0                         0                 0                 0   \n",
       "1                         0                 0                 0   \n",
       "2                         1                 0                 0   \n",
       "3                         0                 0                 0   \n",
       "4                         0                 1                 1   \n",
       "\n",
       "   ('P26', 'oracle')  ('P26', 'sql_server')  ('P26', 'aurora')  \\\n",
       "0                  0                      0                  0   \n",
       "1                  1                      0                  0   \n",
       "2                  0                      0                  0   \n",
       "3                  0                      0                  0   \n",
       "4                  0                      0                  0   \n",
       "\n",
       "   ('P26', 'dynamodb')  ('P26', 'coachdb')  ('P26', 'cassandra')  \\\n",
       "0                    0                   0                     0   \n",
       "1                    0                   0                     0   \n",
       "2                    0                   0                     0   \n",
       "3                    0                   0                     0   \n",
       "4                    0                   0                     0   \n",
       "\n",
       "   ('P26', 'mongodb')  ('P26', 'mariadb')  ('P26', 'datomic')  ('P26', 's3')  \\\n",
       "0                   0                   0                   0              0   \n",
       "1                   0                   0                   0              1   \n",
       "2                   0                   0                   0              0   \n",
       "3                   0                   0                   0              0   \n",
       "4                   1                   1                   0              0   \n",
       "\n",
       "   ('P26', 'postgresql')  ('P26', 'elaticsearch')  ('P26', 'db2')  \\\n",
       "0                      0                        0               0   \n",
       "1                      0                        0               0   \n",
       "2                      0                        0               0   \n",
       "3                      0                        0               0   \n",
       "4                      1                        1               0   \n",
       "\n",
       "   ('P26', 'ms_access')  ('P26', 'sqlite')  ('P26', 'sybase')  \\\n",
       "0                     0                  0                  0   \n",
       "1                     0                  0                  0   \n",
       "2                     0                  0                  0   \n",
       "3                     0                  0                  0   \n",
       "4                     0                  1                  0   \n",
       "\n",
       "   ('P26', 'firebase')  ('P26', 'vertica')  ('P26', 'redis')  \\\n",
       "0                    0                   0                 0   \n",
       "1                    0                   0                 0   \n",
       "2                    0                   0                 0   \n",
       "3                    0                   0                 0   \n",
       "4                    0                   0                 0   \n",
       "\n",
       "   ('P26', 'neo4j')  ('P26', 'google_bigtable')  ('P26', 'hbase')  \\\n",
       "0                 0                           0                 0   \n",
       "1                 0                           0                 0   \n",
       "2                 0                           0                 0   \n",
       "3                 0                           0                 0   \n",
       "4                 0                           0                 0   \n",
       "\n",
       "   ('P26', 'other')  ('P27', 'microsoft_powerbi')  \\\n",
       "0                 0                             0   \n",
       "1                 0                             1   \n",
       "2                 1                             0   \n",
       "3                 1                             0   \n",
       "4                 0                             0   \n",
       "\n",
       "   ('P27', 'qlik_view_qlik_sense')  ('P27', 'tableau')  ('P27', 'metabase')  \\\n",
       "0                                0                   0                    0   \n",
       "1                                0                   0                    0   \n",
       "2                                0                   1                    0   \n",
       "3                                0                   0                    0   \n",
       "4                                0                   0                    0   \n",
       "\n",
       "   ('P27', 'superset')  ('P27', 'redash')  ('P27', 'microstrategy')  \\\n",
       "0                    0                  0                         0   \n",
       "1                    0                  0                         0   \n",
       "2                    0                  0                         0   \n",
       "3                    0                  0                         0   \n",
       "4                    0                  0                         0   \n",
       "\n",
       "   ('P27', 'ibm_analytics_cognos')  ('P27', 'sap_business_objects')  \\\n",
       "0                                0                                0   \n",
       "1                                0                                0   \n",
       "2                                0                                0   \n",
       "3                                0                                0   \n",
       "4                                0                                0   \n",
       "\n",
       "   ('P27', 'oracle_business_intelligence')  ('P27', 'birst')  \\\n",
       "0                                        0                 0   \n",
       "1                                        0                 0   \n",
       "2                                        0                 0   \n",
       "3                                        0                 0   \n",
       "4                                        0                 0   \n",
       "\n",
       "   ('P27', 'looker')  ('P27', 'google_data_studio')  \\\n",
       "0                  0                              0   \n",
       "1                  0                              0   \n",
       "2                  0                              0   \n",
       "3                  0                              0   \n",
       "4                  0                              0   \n",
       "\n",
       "   ('P27', 'only_excel_gsheets')  ('P27', 'no_bi_tool_at_work')  \\\n",
       "0                              0                              0   \n",
       "1                              0                              0   \n",
       "2                              0                              0   \n",
       "3                              0                              0   \n",
       "4                              0                              1   \n",
       "\n",
       "   ('P27', 'other')  ('P28', 'sql_&_stored_procedures')  \\\n",
       "0                 0                                   0   \n",
       "1                 0                                   1   \n",
       "2                 0                                   0   \n",
       "3                 1                                   0   \n",
       "4                 0                                   0   \n",
       "\n",
       "   ('P28', 'apache_airflow')  ('P28', 'luigi')  ('P28', 'aws_glue')  \\\n",
       "0                          0                 0                    0   \n",
       "1                          0                 0                    0   \n",
       "2                          0                 0                    0   \n",
       "3                          0                 0                    0   \n",
       "4                          0                 0                    0   \n",
       "\n",
       "   ('P28', 'talend')  ('P28', 'pentaho')  ('P28', 'alteryx')  \\\n",
       "0                  0                   0                   0   \n",
       "1                  0                   0                   0   \n",
       "2                  0                   0                   0   \n",
       "3                  0                   1                   0   \n",
       "4                  0                   0                   0   \n",
       "\n",
       "   ('P28', 'oracle_data_integrator')  ('P28', 'ibm_data_stage')  \\\n",
       "0                                  0                          0   \n",
       "1                                  0                          0   \n",
       "2                                  0                          0   \n",
       "3                                  0                          0   \n",
       "4                                  0                          0   \n",
       "\n",
       "   ('P28', 'sap_bw_etl')  ('P28', 'siss_sql_server_integration_services')  \\\n",
       "0                      0                                                0   \n",
       "1                      0                                                0   \n",
       "2                      0                                                0   \n",
       "3                      0                                                0   \n",
       "4                      0                                                0   \n",
       "\n",
       "   ('P28', 'other')  ('P29', 'have_data_warehouse')  \\\n",
       "0                 0                             NaN   \n",
       "1                 0                             0.0   \n",
       "2                 1                             0.0   \n",
       "3                 0                             1.0   \n",
       "4                 1                             0.0   \n",
       "\n",
       "   ('P30', 'google_bigquery')  ('P30', 'aws_redshift')  ('P30', 'snowflake')  \\\n",
       "0                           0                        0                     0   \n",
       "1                           0                        0                     0   \n",
       "2                           0                        0                     0   \n",
       "3                           0                        1                     0   \n",
       "4                           0                        0                     0   \n",
       "\n",
       "   ('P30', 'oracle')  ('P30', 'postgres_mysql')  ('P30', 'ibm')  \\\n",
       "0                  0                          0               0   \n",
       "1                  0                          0               0   \n",
       "2                  0                          0               0   \n",
       "3                  0                          0               0   \n",
       "4                  0                          0               0   \n",
       "\n",
       "   ('P30', 'teradata')  ('P30', 'microsoft_azure')  ('P30', 'do_not_know')  \\\n",
       "0                    0                           0                       0   \n",
       "1                    0                           0                       0   \n",
       "2                    0                           0                       0   \n",
       "3                    0                           0                       0   \n",
       "4                    0                           0                       0   \n",
       "\n",
       "   ('P30', 'other')  ('P31', 'data_hackers_blog')  \\\n",
       "0                 0                             0   \n",
       "1                 0                             0   \n",
       "2                 0                             0   \n",
       "3                 0                             0   \n",
       "4                 0                             1   \n",
       "\n",
       "   ('P31', 'data_hackers_podcast')  ('P31', 'weekly_newsletter')  \\\n",
       "0                                0                             0   \n",
       "1                                0                             0   \n",
       "2                                1                             1   \n",
       "3                                0                             0   \n",
       "4                                0                             0   \n",
       "\n",
       "   ('P31', 'slack_channel')  ('P31', 'data_hackers_bootcamp')  \\\n",
       "0                         0                                 0   \n",
       "1                         0                                 0   \n",
       "2                         0                                 0   \n",
       "3                         0                                 0   \n",
       "4                         0                                 0   \n",
       "\n",
       "   ('P31', 'do_not_know_data_hackers')  \\\n",
       "0                                    1   \n",
       "1                                    1   \n",
       "2                                    0   \n",
       "3                                    1   \n",
       "4                                    0   \n",
       "\n",
       "  ('P32', 'prefered_data_hackers_initiative')  ('P33', 'telegram_groups')  \\\n",
       "0           Ainda não conhecia o Data Hackers                           0   \n",
       "1           Ainda não conhecia o Data Hackers                           0   \n",
       "2                          Newsletter Semanal                           0   \n",
       "3           Ainda não conhecia o Data Hackers                           0   \n",
       "4                 Blog/Medium do Data Hackers                           0   \n",
       "\n",
       "   ('P33', 'whatsapp_groups')  ('P33', 'youtube_channels')  \\\n",
       "0                           0                            1   \n",
       "1                           0                            1   \n",
       "2                           0                            0   \n",
       "3                           1                            0   \n",
       "4                           0                            0   \n",
       "\n",
       "   ('P33', 'other_brasilian_blogs')  ('P33', 'other_slack_channels')  \\\n",
       "0                                 0                                0   \n",
       "1                                 0                                0   \n",
       "2                                 1                                0   \n",
       "3                                 0                                0   \n",
       "4                                 0                                0   \n",
       "\n",
       "   ('P33', 'twitter')  ('P33', 'abroad_blogs')  ('P33', 'abroad_podcasts')  \\\n",
       "0                   0                        0                           0   \n",
       "1                   0                        0                           0   \n",
       "2                   0                        0                           0   \n",
       "3                   0                        0                           1   \n",
       "4                   0                        0                           0   \n",
       "\n",
       "   ('P33', 'meetups_and_events')  ('P33', 'only_data_hackers')  \\\n",
       "0                              0                             0   \n",
       "1                              0                             0   \n",
       "2                              0                             0   \n",
       "3                              0                             0   \n",
       "4                              0                             0   \n",
       "\n",
       "   ('P33', 'other')  ('P34', 'udacity')  ('P34', 'coursera')  \\\n",
       "0                 0                   0                    0   \n",
       "1                 0                   0                    0   \n",
       "2                 0                   0                    1   \n",
       "3                 0                   0                    1   \n",
       "4                 1                   1                    1   \n",
       "\n",
       "   ('P34', 'udemy')  ('P34', 'height')  ('P34', 'edx')  ('P34', 'data_camp')  \\\n",
       "0                 0                  0               0                     0   \n",
       "1                 1                  0               0                     0   \n",
       "2                 1                  0               0                     0   \n",
       "3                 1                  1               0                     0   \n",
       "4                 1                  0               0                     0   \n",
       "\n",
       "   ('P34', 'data_quest')  ('P34', 'kaggle_learn')  ('P34', 'online_courses')  \\\n",
       "0                      0                        0                          1   \n",
       "1                      0                        0                          0   \n",
       "2                      0                        1                          0   \n",
       "3                      0                        0                          0   \n",
       "4                      0                        0                          0   \n",
       "\n",
       "   ('P34', 'other') ('P35', 'data_science_plataforms_preference')  \\\n",
       "0                 0                       Nunca fiz cursos online   \n",
       "1                 1                                           NaN   \n",
       "2                 0                                         Udemy   \n",
       "3                 0                                         Alura   \n",
       "4                 0                                         Udemy   \n",
       "\n",
       "       ('P35', 'other')  ('P36', 'draw_participation')  \\\n",
       "0                   NaN                            1.0   \n",
       "1  Data Science Academy                            0.0   \n",
       "2                   NaN                            1.0   \n",
       "3                   NaN                            1.0   \n",
       "4                   NaN                            1.0   \n",
       "\n",
       "  ('D1', 'living_macroregion') ('D2', 'origin_macroregion')  \\\n",
       "0               Região Sudeste                          NaN   \n",
       "1               Região Sudeste                          NaN   \n",
       "2               Região Sudeste                          NaN   \n",
       "3               Região Sudeste               Região Sudeste   \n",
       "4                          NaN                          NaN   \n",
       "\n",
       "                    ('D3', 'anonymized_degree_area')  \\\n",
       "0  Computação / Engenharia de Software / Sistemas...   \n",
       "1  Computação / Engenharia de Software / Sistemas...   \n",
       "2                                 Outras Engenharias   \n",
       "3  Computação / Engenharia de Software / Sistemas...   \n",
       "4  Computação / Engenharia de Software / Sistemas...   \n",
       "\n",
       "  ('D4', 'anonymized_market_sector') ('D5', 'anonymized_manager_level')  \\\n",
       "0                             Outras                                NaN   \n",
       "1                           Educação                                NaN   \n",
       "2             Indústria (Manufatura)                                NaN   \n",
       "3     Tecnologia/Fábrica de Software                                NaN   \n",
       "4                 Internet/Ecommerce            C-level (CDO, CIO, CTO)   \n",
       "\n",
       "              ('D6', 'anonymized_role')  \n",
       "0                                Outras  \n",
       "1        Data Analyst/Analista de Dados  \n",
       "2                                Outras  \n",
       "3  Business Intelligence/Analista de BI  \n",
       "4                                   NaN  "
      ]
     },
     "execution_count": 137,
     "metadata": {},
     "output_type": "execute_result"
    }
   ],
   "source": [
    "pd.set_option(\"display.max_columns\", 200) #See all columns\n",
    "df.head()"
   ]
  },
  {
   "cell_type": "code",
   "execution_count": 138,
   "id": "b8e2b3e6",
   "metadata": {},
   "outputs": [],
   "source": [
    "#Drop columns I won't use\n",
    "df.drop(columns= [\"('P0', 'id')\",\"('P31', 'data_hackers_blog')\",\"('P31', 'data_hackers_podcast')\",\n",
    "                  \"('P31', 'weekly_newsletter')\",\"('P31', 'slack_channel')\",\"('P31', 'data_hackers_bootcamp')\",\n",
    "                  \"('P31', 'do_not_know_data_hackers')\",\"('P32', 'prefered_data_hackers_initiative')\", \n",
    "                  \"('P36', 'draw_participation')\", \"('P35', 'data_science_plataforms_preference')\", \n",
    "                 \"('P35', 'other')\"],inplace= True)"
   ]
  },
  {
   "cell_type": "code",
   "execution_count": 139,
   "id": "c42a34cf",
   "metadata": {},
   "outputs": [
    {
     "data": {
      "text/plain": [
       "('D5', 'anonymized_manager_level')            1460\n",
       "('D2', 'origin_macroregion')                  1440\n",
       "('P29', 'have_data_warehouse')                 972\n",
       "('P22', 'most_used_proggraming_languages')     859\n",
       "('D6', 'anonymized_role')                      514\n",
       "('P5', 'living_state')                         337\n",
       "('D1', 'living_macroregion')                   337\n",
       "('D4', 'anonymized_market_sector')             243\n",
       "('P12', 'workers_number')                      238\n",
       "('P13', 'manager')                             238\n",
       "('P16', 'salary_range')                        238\n",
       "('D3', 'anonymized_degree_area')                35\n",
       "('P6', 'born_or_graduated')                     34\n",
       "('P1', 'age')                                   24\n",
       "('P2', 'gender')                                 3\n",
       "dtype: int64"
      ]
     },
     "execution_count": 139,
     "metadata": {},
     "output_type": "execute_result"
    }
   ],
   "source": [
    "#Find missing data\n",
    "df.isnull().sum()[df.isnull().sum() != 0 ].sort_values(ascending = False)"
   ]
  },
  {
   "cell_type": "markdown",
   "id": "1763aea0",
   "metadata": {},
   "source": [
    "From the missing data we see that probably most of the people are not in manager level positions, the most used languages (P22) can be taken from P21, the rest even if we don't use in the model we can use to understand the data workers profile"
   ]
  },
  {
   "cell_type": "code",
   "execution_count": 140,
   "id": "bbd6e29a",
   "metadata": {},
   "outputs": [],
   "source": [
    "#Dropping columns with a lot of missing data\n",
    "df.drop(columns= [\"('D5', 'anonymized_manager_level')\", \"('P29', 'have_data_warehouse')\", \n",
    "                  \"('P22', 'most_used_proggraming_languages')\"], inplace= True)"
   ]
  },
  {
   "cell_type": "code",
   "execution_count": 141,
   "id": "4cf6f57c",
   "metadata": {},
   "outputs": [],
   "source": [
    "#Fill missing data for age and gender that has not much missing data and is gonna be important for the model\n",
    "df[\"('P2', 'gender')\"]= df[\"('P2', 'gender')\"].fillna(df[\"('P2', 'gender')\"].mode().iloc[0])\n",
    "df[\"('P1', 'age')\"]= df[\"('P1', 'age')\"].fillna(df[\"('P1', 'age')\"].mean())"
   ]
  },
  {
   "cell_type": "markdown",
   "id": "064bcfc1",
   "metadata": {},
   "source": [
    "**Descritive Analysis**"
   ]
  },
  {
   "cell_type": "code",
   "execution_count": 142,
   "id": "d415246a",
   "metadata": {
    "scrolled": false
   },
   "outputs": [
    {
     "data": {
      "text/plain": [
       "<AxesSubplot:ylabel=\"('P19', 'is_data_science_professional')\">"
      ]
     },
     "execution_count": 142,
     "metadata": {},
     "output_type": "execute_result"
    },
    {
     "data": {
      "image/png": "[encoded data removed]",
      "text/plain": [
       "<Figure size 432x288 with 1 Axes>"
      ]
     },
     "metadata": {},
     "output_type": "display_data"
    }
   ],
   "source": [
    "# Do people consider themselves as a Data science professional ?\n",
    "df[\"('P19', 'is_data_science_professional')\"].value_counts().plot(kind=\"pie\")"
   ]
  },
  {
   "cell_type": "markdown",
   "id": "d2cd763f",
   "metadata": {},
   "source": [
    "Almost half doesn't consider themselves as DS professional. Let's see if they use DS tools"
   ]
  },
  {
   "cell_type": "code",
   "execution_count": 143,
   "id": "9073543d",
   "metadata": {},
   "outputs": [],
   "source": [
    "# Dataframe with only people who don't consider themselves DS professionals\n",
    "noDS= df[(df[\"('P19', 'is_data_science_professional')\"])== 0]"
   ]
  },
  {
   "cell_type": "code",
   "execution_count": 144,
   "id": "c6bc1882",
   "metadata": {},
   "outputs": [
    {
     "data": {
      "text/plain": [
       "('P20', 'linear_regression')             0\n",
       "('P20', 'hmms')                          0\n",
       "('P20', 'joint analysis')                0\n",
       "('P20', 'longitudinal_data_analysis')    0\n",
       "('P20', 'survival_analysis')             0\n",
       "('P20', 'cluster_analysis')              0\n",
       "('P20', 'gradient_boosted_machines')     0\n",
       "('P20', 'nlp')                           0\n",
       "('P20', 'markov_chains')                 0\n",
       "('P20', 'gans')                          0\n",
       "('P20', 'rnns')                          0\n",
       "('P20', 'logistic_regression')           0\n",
       "('P20', 'cnns')                          0\n",
       "('P20', 'svms')                          0\n",
       "('P20', 'ensemble')                      0\n",
       "('P20', 'bayesian_inference')            0\n",
       "('P20', 'neural_networks')               0\n",
       "('P20', 'random_forest')                 0\n",
       "('P20', 'decision_tree')                 0\n",
       "('P20', 'glms')                          0\n",
       "('P20', 'no_listed_methods')             0\n",
       "dtype: int64"
      ]
     },
     "execution_count": 144,
     "metadata": {},
     "output_type": "execute_result"
    }
   ],
   "source": [
    "aux1 = round(noDS.filter(regex = 'P20').sum().sort_values(ascending = False))\n",
    "aux1 #Models (They don't use any)"
   ]
  },
  {
   "cell_type": "code",
   "execution_count": 145,
   "id": "fae32a24",
   "metadata": {},
   "outputs": [
    {
     "data": {
      "text/plain": [
       "('P23', 'sql')       0\n",
       "('P23', 'nosql')     0\n",
       "('P23', 'images')    0\n",
       "('P23', 'nlp')       0\n",
       "('P23', 'videos')    0\n",
       "('P23', 'sheets')    0\n",
       "('P23', 'other')     0\n",
       "dtype: int64"
      ]
     },
     "execution_count": 145,
     "metadata": {},
     "output_type": "execute_result"
    }
   ],
   "source": [
    "aux2 = round(noDS.filter(regex = 'P23').sum().sort_values(ascending = False))\n",
    "aux2 # Data info"
   ]
  },
  {
   "cell_type": "code",
   "execution_count": 146,
   "id": "94a9bf0a",
   "metadata": {},
   "outputs": [
    {
     "data": {
      "text/plain": [
       "('P24', 'sql')          0\n",
       "('P24', 'nosql')        0\n",
       "('P24', 'imagens')      0\n",
       "('P24', 'nlp')          0\n",
       "('P24', 'vídeos')       0\n",
       "('P24', 'planilhas')    0\n",
       "('P24', 'other')        0\n",
       "dtype: int64"
      ]
     },
     "execution_count": 146,
     "metadata": {},
     "output_type": "execute_result"
    }
   ],
   "source": [
    "aux3= round(noDS.filter(regex = 'P24').sum().sort_values(ascending = False))\n",
    "aux3"
   ]
  },
  {
   "cell_type": "code",
   "execution_count": 147,
   "id": "5d506abd",
   "metadata": {},
   "outputs": [
    {
     "data": {
      "text/plain": [
       "('P26', 'mysql')              0\n",
       "('P26', 'oracle')             0\n",
       "('P26', 'hbase')              0\n",
       "('P26', 'google_bigtable')    0\n",
       "('P26', 'neo4j')              0\n",
       "('P26', 'redis')              0\n",
       "('P26', 'vertica')            0\n",
       "('P26', 'firebase')           0\n",
       "('P26', 'sybase')             0\n",
       "('P26', 'sqlite')             0\n",
       "('P26', 'ms_access')          0\n",
       "('P26', 'db2')                0\n",
       "('P26', 'elaticsearch')       0\n",
       "('P26', 'postgresql')         0\n",
       "('P26', 's3')                 0\n",
       "('P26', 'datomic')            0\n",
       "('P26', 'mariadb')            0\n",
       "('P26', 'mongodb')            0\n",
       "('P26', 'cassandra')          0\n",
       "('P26', 'coachdb')            0\n",
       "('P26', 'dynamodb')           0\n",
       "('P26', 'aurora')             0\n",
       "('P26', 'sql_server')         0\n",
       "('P26', 'other')              0\n",
       "dtype: int64"
      ]
     },
     "execution_count": 147,
     "metadata": {},
     "output_type": "execute_result"
    }
   ],
   "source": [
    "aux4 = round(noDS.filter(regex = 'P26').sum().sort_values(ascending = False))\n",
    "aux4"
   ]
  },
  {
   "cell_type": "code",
   "execution_count": 148,
   "id": "867dfd5c",
   "metadata": {},
   "outputs": [
    {
     "data": {
      "text/plain": [
       "('P27', 'microsoft_powerbi')               0\n",
       "('P27', 'qlik_view_qlik_sense')            0\n",
       "('P27', 'tableau')                         0\n",
       "('P27', 'metabase')                        0\n",
       "('P27', 'superset')                        0\n",
       "('P27', 'redash')                          0\n",
       "('P27', 'microstrategy')                   0\n",
       "('P27', 'ibm_analytics_cognos')            0\n",
       "('P27', 'sap_business_objects')            0\n",
       "('P27', 'oracle_business_intelligence')    0\n",
       "('P27', 'birst')                           0\n",
       "('P27', 'looker')                          0\n",
       "('P27', 'google_data_studio')              0\n",
       "('P27', 'only_excel_gsheets')              0\n",
       "('P27', 'no_bi_tool_at_work')              0\n",
       "('P27', 'other')                           0\n",
       "dtype: int64"
      ]
     },
     "execution_count": 148,
     "metadata": {},
     "output_type": "execute_result"
    }
   ],
   "source": [
    "aux5 = round(noDS.filter(regex = 'P27').sum().sort_values(ascending = False))\n",
    "aux5 # BI tools"
   ]
  },
  {
   "cell_type": "markdown",
   "id": "dbc3f997",
   "metadata": {},
   "source": [
    "Considering those who don't consider themselves don't use any of the DS tools they really aren't DS professionals and shouldn't be considered"
   ]
  },
  {
   "cell_type": "code",
   "execution_count": 149,
   "id": "5579b63d",
   "metadata": {},
   "outputs": [],
   "source": [
    "noDS= df[(df[\"('P19', 'is_data_science_professional')\"])== 0].index"
   ]
  },
  {
   "cell_type": "code",
   "execution_count": 150,
   "id": "1886cd51",
   "metadata": {},
   "outputs": [],
   "source": [
    "# Dataset with only people who really work on Data science field\n",
    "real_DS= df.drop(noDS)"
   ]
  },
  {
   "cell_type": "code",
   "execution_count": 151,
   "id": "b0be5fb6",
   "metadata": {},
   "outputs": [
    {
     "data": {
      "text/plain": [
       "<AxesSubplot:>"
      ]
     },
     "execution_count": 151,
     "metadata": {},
     "output_type": "execute_result"
    },
    {
     "data": {
      "image/png": "[encoded data removed]",
      "text/plain": [
       "<Figure size 432x288 with 1 Axes>"
      ]
     },
     "metadata": {
      "needs_background": "light"
     },
     "output_type": "display_data"
    }
   ],
   "source": [
    "# How's the age distribution?\n",
    "real_DS[\"('P1', 'age')\"].hist()"
   ]
  },
  {
   "cell_type": "markdown",
   "id": "8b8a3a05",
   "metadata": {},
   "source": [
    "Mostly between 20yo and 40yo"
   ]
  },
  {
   "cell_type": "code",
   "execution_count": 152,
   "id": "00632077",
   "metadata": {},
   "outputs": [
    {
     "data": {
      "text/plain": [
       "<AxesSubplot:ylabel=\"('P2', 'gender')\">"
      ]
     },
     "execution_count": 152,
     "metadata": {},
     "output_type": "execute_result"
    },
    {
     "data": {
      "image/png": "[encoded data removed]",
      "text/plain": [
       "<Figure size 432x288 with 1 Axes>"
      ]
     },
     "metadata": {},
     "output_type": "display_data"
    }
   ],
   "source": [
    "# How's the gender separation?\n",
    "real_DS[\"('P2', 'gender')\"].value_counts().plot(kind= 'pie')"
   ]
  },
  {
   "cell_type": "markdown",
   "id": "c236dfc5",
   "metadata": {},
   "source": [
    "Mostly men working on DS field"
   ]
  },
  {
   "cell_type": "code",
   "execution_count": 153,
   "id": "e1e29b94",
   "metadata": {},
   "outputs": [
    {
     "data": {
      "text/plain": [
       "<AxesSubplot:ylabel=\"('P3', 'living_in_brasil')\">"
      ]
     },
     "execution_count": 153,
     "metadata": {},
     "output_type": "execute_result"
    },
    {
     "data": {
      "image/png": "[encoded data removed]",
      "text/plain": [
       "<Figure size 432x288 with 1 Axes>"
      ]
     },
     "metadata": {},
     "output_type": "display_data"
    }
   ],
   "source": [
    "# Mostly live in brasil ?\n",
    "real_DS[\"('P3', 'living_in_brasil')\"].value_counts().plot(kind=\"pie\")"
   ]
  },
  {
   "cell_type": "markdown",
   "id": "9fb41d70",
   "metadata": {},
   "source": [
    "Most people live in Brasil (1= yes)"
   ]
  },
  {
   "cell_type": "code",
   "execution_count": 154,
   "id": "9f662a97",
   "metadata": {},
   "outputs": [
    {
     "data": {
      "text/plain": [
       "São Paulo (SP)            351\n",
       "Minas Gerais (MG)         162\n",
       "Rio de Janeiro (RJ)        86\n",
       "Paraná (PR)                44\n",
       "Rio Grande do Sul (RS)     42\n",
       "Santa Catarina (SC)        36\n",
       "Espírito Santo (ES)        10\n",
       "Name: ('P5', 'living_state'), dtype: int64"
      ]
     },
     "execution_count": 154,
     "metadata": {},
     "output_type": "execute_result"
    }
   ],
   "source": [
    "#Where in Brasil people usually live?\n",
    "real_DS[\"('P5', 'living_state')\"].value_counts()"
   ]
  },
  {
   "cell_type": "code",
   "execution_count": 155,
   "id": "ee190fe8",
   "metadata": {},
   "outputs": [
    {
     "data": {
      "text/plain": [
       "Região Sudeste    609\n",
       "Região Sul        122\n",
       "Name: ('D1', 'living_macroregion'), dtype: int64"
      ]
     },
     "execution_count": 155,
     "metadata": {},
     "output_type": "execute_result"
    }
   ],
   "source": [
    "real_DS[\"('D1', 'living_macroregion')\"].value_counts()"
   ]
  },
  {
   "cell_type": "markdown",
   "id": "2b4f6d42",
   "metadata": {},
   "source": [
    "The region just get people from some parts of Brasil so location isn't much certain or people move to work"
   ]
  },
  {
   "cell_type": "code",
   "execution_count": 156,
   "id": "e2e8c3d0",
   "metadata": {},
   "outputs": [
    {
     "data": {
      "text/plain": [
       "Região Sudeste         92\n",
       "Região Nordeste        38\n",
       "Região Sul             22\n",
       "Região Centro-Oeste    17\n",
       "Região Norte           11\n",
       "Name: ('D2', 'origin_macroregion'), dtype: int64"
      ]
     },
     "execution_count": 156,
     "metadata": {},
     "output_type": "execute_result"
    }
   ],
   "source": [
    "real_DS[\"('D2', 'origin_macroregion')\"].value_counts()"
   ]
  },
  {
   "cell_type": "markdown",
   "id": "d64f1ea5",
   "metadata": {},
   "source": [
    "As all Brasilians regions are considered then most jobs are found in Sudeste and Sul, making people from other regions move to find jobs. So it's easier to get a job if you already live in those places"
   ]
  },
  {
   "cell_type": "code",
   "execution_count": 157,
   "id": "16a1ca6d",
   "metadata": {},
   "outputs": [
    {
     "data": {
      "text/plain": [
       "1.0    709\n",
       "0.0    181\n",
       "Name: ('P6', 'born_or_graduated'), dtype: int64"
      ]
     },
     "execution_count": 157,
     "metadata": {},
     "output_type": "execute_result"
    }
   ],
   "source": [
    "real_DS[\"('P6', 'born_or_graduated')\"].value_counts()"
   ]
  },
  {
   "cell_type": "markdown",
   "id": "b5c4405d",
   "metadata": {},
   "source": [
    "But analysing the data mostly people already lived in those regions, probably moved to study before getting a job"
   ]
  },
  {
   "cell_type": "code",
   "execution_count": 158,
   "id": "393b216b",
   "metadata": {},
   "outputs": [
    {
     "data": {
      "text/plain": [
       "Graduação/Bacharelado         286\n",
       "Pós-graduação                 259\n",
       "Estudante de Graduação        162\n",
       "Mestrado                      150\n",
       "Doutorado ou Phd               41\n",
       "Não tenho graduação formal     17\n",
       "Name: ('P8', 'degreee_level'), dtype: int64"
      ]
     },
     "execution_count": 158,
     "metadata": {},
     "output_type": "execute_result"
    }
   ],
   "source": [
    "real_DS[\"('P8', 'degreee_level')\"].value_counts()"
   ]
  },
  {
   "cell_type": "code",
   "execution_count": 159,
   "id": "a51b4b40",
   "metadata": {},
   "outputs": [],
   "source": [
    "# Graduação/Bacharelado == Estudante de Graduação (Join)\n",
    "real_DS.loc[real_DS[\"('P8', 'degreee_level')\"]== \"Estudante de Graduação\", \"('P8', 'degreee_level')\"] = \"Graduação/Bacharelado\""
   ]
  },
  {
   "cell_type": "markdown",
   "id": "dbaa371e",
   "metadata": {},
   "source": [
    "Most positions are taken by Graduation students (graduated or studing)"
   ]
  },
  {
   "cell_type": "code",
   "execution_count": 160,
   "id": "bea20920",
   "metadata": {},
   "outputs": [
    {
     "data": {
      "text/plain": [
       "Empregado (CTL)                                  566\n",
       "Empreendedor ou Empregado (CNPJ)                 124\n",
       "Estagiário                                        60\n",
       "Desempregado, buscando recolocação                37\n",
       "Trabalho na área Acadêmica/Pesquisador            35\n",
       "Servidor Público                                  30\n",
       "Somente Estudante (graduação)                     24\n",
       "Somente Estudante (pós-graduação)                 22\n",
       "Freelancer                                        12\n",
       "Prefiro não dizer                                  3\n",
       "Desempregado e não estou buscando recolocação      2\n",
       "Name: ('P10', 'job_situation'), dtype: int64"
      ]
     },
     "execution_count": 160,
     "metadata": {},
     "output_type": "execute_result"
    }
   ],
   "source": [
    "real_DS[\"('P10', 'job_situation')\"].value_counts()"
   ]
  },
  {
   "cell_type": "code",
   "execution_count": 161,
   "id": "ef53b6b4",
   "metadata": {},
   "outputs": [],
   "source": [
    "#Treatment to have less categories\n",
    "real_DS.loc[real_DS[\"('P10', 'job_situation')\"]== \"Somente Estudante (graduação)\", \"('P10', 'job_situation')\"] = \"Estudante\"\n",
    "real_DS.loc[real_DS[\"('P10', 'job_situation')\"]== \"Somente Estudante (pós-graduação)\", \"('P10', 'job_situation')\"] = \"Estudante\"\n",
    "real_DS.loc[real_DS[\"('P10', 'job_situation')\"]== \"Desempregado, buscando recolocação\", \"('P10', 'job_situation')\"] = \"Desempregado\"\n",
    "real_DS.loc[real_DS[\"('P10', 'job_situation')\"]== \"Desempregado e não estou buscando recolocação\", \"('P10', 'job_situation')\"] = \"Desempregado\"\n",
    "real_DS.loc[real_DS[\"('P10', 'job_situation')\"]== \"Prefiro não dizer\", \"('P10', 'job_situation')\"] = \"Desempregado\""
   ]
  },
  {
   "cell_type": "markdown",
   "id": "c8f1cc6c",
   "metadata": {},
   "source": [
    "Most positions are from CLT"
   ]
  },
  {
   "cell_type": "code",
   "execution_count": 162,
   "id": "f1e61378",
   "metadata": {},
   "outputs": [
    {
     "data": {
      "text/plain": [
       "Acima de 3000     213\n",
       "de 101 a 500      187\n",
       "de 11 a 50        111\n",
       "de 501 a 1000      79\n",
       "de 1001 a 3000     75\n",
       "de 51 a 100        65\n",
       "de 1 a 5           33\n",
       "de 6 a 10          32\n",
       "Name: ('P12', 'workers_number'), dtype: int64"
      ]
     },
     "execution_count": 162,
     "metadata": {},
     "output_type": "execute_result"
    }
   ],
   "source": [
    "real_DS[\"('P12', 'workers_number')\"].value_counts()"
   ]
  },
  {
   "cell_type": "markdown",
   "id": "b3194aa3",
   "metadata": {},
   "source": [
    "Most people work on big or medium companies"
   ]
  },
  {
   "cell_type": "code",
   "execution_count": 163,
   "id": "90054746",
   "metadata": {},
   "outputs": [
    {
     "data": {
      "text/plain": [
       "<AxesSubplot:ylabel=\"('P13', 'manager')\">"
      ]
     },
     "execution_count": 163,
     "metadata": {},
     "output_type": "execute_result"
    },
    {
     "data": {
      "image/png": "[encoded data removed]",
      "text/plain": [
       "<Figure size 432x288 with 1 Axes>"
      ]
     },
     "metadata": {},
     "output_type": "display_data"
    }
   ],
   "source": [
    "real_DS[\"('P13', 'manager')\"].value_counts().plot(kind='pie')"
   ]
  },
  {
   "cell_type": "markdown",
   "id": "bce6a880",
   "metadata": {},
   "source": [
    "Most positions aren't as manager"
   ]
  },
  {
   "cell_type": "code",
   "execution_count": 164,
   "id": "bd6ef8ac",
   "metadata": {},
   "outputs": [
    {
     "data": {
      "text/plain": [
       "de R$ 8.001/mês a R$ 12.000/mês     39\n",
       "de R$ 12.001/mês a R$ 16.000/mês    29\n",
       "de R$ 6.001/mês a R$ 8.000/mês      26\n",
       "de R$ 4.001/mês a R$ 6.000/mês      26\n",
       "de R$ 16.001/mês a R$ 20.000/mês    21\n",
       "de R$ 3.001/mês a R$ 4.000/mês       8\n",
       "de R$ 1.001/mês a R$ 2.000/mês       6\n",
       "de R$ 2.001/mês a R$ 3000/mês        5\n",
       "de R$ 20.001/mês a R$ 25.000/mês     5\n",
       "Acima de R$ 25.001/mês               3\n",
       "Name: ('P16', 'salary_range'), dtype: int64"
      ]
     },
     "execution_count": 164,
     "metadata": {},
     "output_type": "execute_result"
    }
   ],
   "source": [
    "real_DS.loc[(real_DS[\"('P13', 'manager')\"]== 1)][\"('P16', 'salary_range')\"].value_counts()"
   ]
  },
  {
   "cell_type": "code",
   "execution_count": 165,
   "id": "cdaa6de2",
   "metadata": {},
   "outputs": [
    {
     "data": {
      "text/plain": [
       "de R$ 4.001/mês a R$ 6.000/mês      145\n",
       "de R$ 6.001/mês a R$ 8.000/mês      104\n",
       "de R$ 3.001/mês a R$ 4.000/mês       98\n",
       "de R$ 8.001/mês a R$ 12.000/mês      96\n",
       "de R$ 1.001/mês a R$ 2.000/mês       62\n",
       "de R$ 2.001/mês a R$ 3000/mês        61\n",
       "de R$ 12.001/mês a R$ 16.000/mês     27\n",
       "Menos de R$ 1.000/mês                15\n",
       "de R$ 16.001/mês a R$ 20.000/mês      8\n",
       "de R$ 20.001/mês a R$ 25.000/mês      6\n",
       "Acima de R$ 25.001/mês                5\n",
       "Name: ('P16', 'salary_range'), dtype: int64"
      ]
     },
     "execution_count": 165,
     "metadata": {},
     "output_type": "execute_result"
    }
   ],
   "source": [
    "real_DS.loc[(real_DS[\"('P13', 'manager')\"]== 0)][\"('P16', 'salary_range')\"].value_counts()"
   ]
  },
  {
   "cell_type": "markdown",
   "id": "71b23e05",
   "metadata": {},
   "source": [
    "Managers positions in general gets higher salaries"
   ]
  },
  {
   "cell_type": "code",
   "execution_count": 166,
   "id": "16d86949",
   "metadata": {},
   "outputs": [
    {
     "data": {
      "text/plain": [
       "de R$ 4.001/mês a R$ 6.000/mês      171\n",
       "de R$ 8.001/mês a R$ 12.000/mês     135\n",
       "de R$ 6.001/mês a R$ 8.000/mês      130\n",
       "de R$ 3.001/mês a R$ 4.000/mês      106\n",
       "de R$ 1.001/mês a R$ 2.000/mês       68\n",
       "de R$ 2.001/mês a R$ 3000/mês        66\n",
       "de R$ 12.001/mês a R$ 16.000/mês     56\n",
       "de R$ 16.001/mês a R$ 20.000/mês     29\n",
       "Menos de R$ 1.000/mês                15\n",
       "de R$ 20.001/mês a R$ 25.000/mês     11\n",
       "Acima de R$ 25.001/mês                8\n",
       "Name: ('P16', 'salary_range'), dtype: int64"
      ]
     },
     "execution_count": 166,
     "metadata": {},
     "output_type": "execute_result"
    }
   ],
   "source": [
    "real_DS[\"('P16', 'salary_range')\"].value_counts()"
   ]
  },
  {
   "cell_type": "code",
   "execution_count": 167,
   "id": "49ba85a2",
   "metadata": {},
   "outputs": [
    {
     "data": {
      "text/plain": [
       "de 1 a 2 anos                             217\n",
       "Menos de 1 ano                            201\n",
       "de 2 a 3 anos                             162\n",
       "de 4 a 5 anos                             125\n",
       "de 6 a 10 anos                            100\n",
       "Mais de 10 anos                            89\n",
       "Não tenho experiência na área de dados     21\n",
       "Name: ('P17', 'time_experience_data_science'), dtype: int64"
      ]
     },
     "execution_count": 167,
     "metadata": {},
     "output_type": "execute_result"
    }
   ],
   "source": [
    "#Do I need a lot of experience to work ?\n",
    "real_DS[\"('P17', 'time_experience_data_science')\"].value_counts()"
   ]
  },
  {
   "cell_type": "code",
   "execution_count": 168,
   "id": "3a3c9fcb",
   "metadata": {},
   "outputs": [
    {
     "data": {
      "text/plain": [
       "Não tive experiência na área de TI/Engenharia de Software antes de começar a trabalhar na área de dados    249\n",
       "Menos de 1 ano                                                                                             182\n",
       "de 1 a 2 anos                                                                                              123\n",
       "de 6 a 10 anos                                                                                             101\n",
       "de 4 a 5 anos                                                                                               93\n",
       "de 2 a 3 anos                                                                                               84\n",
       "Mais de 10 anos                                                                                             83\n",
       "Name: ('P18', 'time_experience_before'), dtype: int64"
      ]
     },
     "execution_count": 168,
     "metadata": {},
     "output_type": "execute_result"
    }
   ],
   "source": [
    "real_DS[\"('P18', 'time_experience_before')\"].value_counts()"
   ]
  },
  {
   "cell_type": "markdown",
   "id": "104b47ed",
   "metadata": {},
   "source": [
    "We don't need much experience to work, mostly people have no experience or less than 1 year of experience, but more experience pays better ?"
   ]
  },
  {
   "cell_type": "code",
   "execution_count": 169,
   "id": "b5ada95d",
   "metadata": {},
   "outputs": [
    {
     "data": {
      "text/plain": [
       "de R$ 8.001/mês a R$ 12.000/mês     23\n",
       "de R$ 4.001/mês a R$ 6.000/mês      22\n",
       "de R$ 12.001/mês a R$ 16.000/mês    18\n",
       "de R$ 6.001/mês a R$ 8.000/mês      12\n",
       "de R$ 16.001/mês a R$ 20.000/mês    10\n",
       "Acima de R$ 25.001/mês               4\n",
       "de R$ 2.001/mês a R$ 3000/mês        3\n",
       "de R$ 3.001/mês a R$ 4.000/mês       2\n",
       "Menos de R$ 1.000/mês                1\n",
       "Name: ('P16', 'salary_range'), dtype: int64"
      ]
     },
     "execution_count": 169,
     "metadata": {},
     "output_type": "execute_result"
    }
   ],
   "source": [
    "real_DS.loc[(real_DS[\"('P17', 'time_experience_data_science')\"]== \"de 6 a 10 anos\")][\"('P16', 'salary_range')\"].value_counts()"
   ]
  },
  {
   "cell_type": "markdown",
   "id": "80dc76f9",
   "metadata": {},
   "source": [
    "The higher salaries goes for the more experienced people"
   ]
  },
  {
   "cell_type": "code",
   "execution_count": 170,
   "id": "7de5c612",
   "metadata": {},
   "outputs": [
    {
     "data": {
      "text/plain": [
       "('P20', 'linear_regression')             524\n",
       "('P20', 'decision_tree')                 441\n",
       "('P20', 'logistic_regression')           406\n",
       "('P20', 'cluster_analysis')              368\n",
       "('P20', 'random_forest')                 359\n",
       "('P20', 'neural_networks')               267\n",
       "('P20', 'nlp')                           252\n",
       "('P20', 'bayesian_inference')            224\n",
       "('P20', 'no_listed_methods')             192\n",
       "('P20', 'svms')                          180\n",
       "('P20', 'gradient_boosted_machines')     177\n",
       "('P20', 'ensemble')                      169\n",
       "('P20', 'glms')                          134\n",
       "('P20', 'cnns')                          101\n",
       "('P20', 'longitudinal_data_analysis')    101\n",
       "('P20', 'rnns')                           98\n",
       "('P20', 'markov_chains')                  79\n",
       "('P20', 'joint analysis')                 79\n",
       "('P20', 'survival_analysis')              72\n",
       "('P20', 'gans')                           24\n",
       "('P20', 'hmms')                           18\n",
       "dtype: int64"
      ]
     },
     "execution_count": 170,
     "metadata": {},
     "output_type": "execute_result"
    }
   ],
   "source": [
    "# Which models are used the most ?\n",
    "aux11 = round(real_DS.filter(regex = 'P20').sum().sort_values(ascending = False))\n",
    "aux11 # R: Linear Regression, C: Decision tree and Logistic regression, Cluster"
   ]
  },
  {
   "cell_type": "code",
   "execution_count": 171,
   "id": "4918d5e1",
   "metadata": {},
   "outputs": [
    {
     "data": {
      "text/plain": [
       "('P21', 'python')                 784\n",
       "('P21', 'sql_')                   714\n",
       "('P21', 'r')                      318\n",
       "('P21', 'java')                    89\n",
       "('P21', 'visual_basic_vba')        84\n",
       "('P21', 'c_c++_c#')                65\n",
       "('P21', 'scala')                   62\n",
       "('P21', 'sas_stata')               61\n",
       "('P21', 'php')                     48\n",
       "('P21', 'dotnet')                  35\n",
       "('P21', 'matlab')                  29\n",
       "('P21', 'julia')                   14\n",
       "('P21', 'no_listed_languages')      8\n",
       "dtype: int64"
      ]
     },
     "execution_count": 171,
     "metadata": {},
     "output_type": "execute_result"
    }
   ],
   "source": [
    "# Which programming languages are used the most ?\n",
    "aux12 = round(real_DS.filter(regex = 'P21').sum().sort_values(ascending = False))\n",
    "aux12 # Python & SQL"
   ]
  },
  {
   "cell_type": "code",
   "execution_count": 172,
   "id": "c6d300db",
   "metadata": {},
   "outputs": [
    {
     "data": {
      "text/plain": [
       "('P23', 'sql')       834\n",
       "('P23', 'sheets')    758\n",
       "('P23', 'nosql')     377\n",
       "('P23', 'nlp')       330\n",
       "('P23', 'images')    160\n",
       "('P23', 'videos')     36\n",
       "('P23', 'other')      35\n",
       "dtype: int64"
      ]
     },
     "execution_count": 172,
     "metadata": {},
     "output_type": "execute_result"
    }
   ],
   "source": [
    "# Which data app are used the most ?\n",
    "aux13 = round(real_DS.filter(regex = 'P23').sum().sort_values(ascending = False))\n",
    "aux13 # SQL & Excel"
   ]
  },
  {
   "cell_type": "code",
   "execution_count": 173,
   "id": "d5bb6191",
   "metadata": {},
   "outputs": [
    {
     "data": {
      "text/plain": [
       "('P24', 'sql')          681\n",
       "('P24', 'planilhas')    384\n",
       "('P24', 'nosql')        136\n",
       "('P24', 'nlp')           84\n",
       "('P24', 'imagens')       22\n",
       "('P24', 'other')         10\n",
       "('P24', 'vídeos')         5\n",
       "dtype: int64"
      ]
     },
     "execution_count": 173,
     "metadata": {},
     "output_type": "execute_result"
    }
   ],
   "source": [
    "# Which data app are used the most ?\n",
    "aux14 = round(real_DS.filter(regex = 'P24').sum().sort_values(ascending = False))\n",
    "aux14"
   ]
  },
  {
   "cell_type": "code",
   "execution_count": 174,
   "id": "a82f9129",
   "metadata": {},
   "outputs": [],
   "source": [
    "# P23 and P24 brings the same info\n",
    "real_DS.drop(columns= [\"('P24', 'sql')\", \"('P24', 'planilhas')\", \"('P24', 'nosql')\",\"('P24', 'nlp')\", \"('P24', 'imagens')\", \n",
    "                       \"('P24', 'other')\", \"('P24', 'vídeos')\", \"('P19', 'is_data_science_professional')\",\n",
    "                      \"('D2', 'origin_macroregion')\", \"('P5', 'living_state')\"], inplace= True)"
   ]
  },
  {
   "cell_type": "code",
   "execution_count": 175,
   "id": "570c7ac9",
   "metadata": {},
   "outputs": [
    {
     "data": {
      "text/plain": [
       "('P25', 'aws')                   412\n",
       "('P25', 'gcp')                   225\n",
       "('P25', 'azure')                 191\n",
       "('P25', 'cloud_própria')         163\n",
       "('P25', 'on_premise_servers')    152\n",
       "('P25', 'other')                  69\n",
       "('P25', 'ibm')                    44\n",
       "dtype: int64"
      ]
     },
     "execution_count": 175,
     "metadata": {},
     "output_type": "execute_result"
    }
   ],
   "source": [
    "# Which cloud are used the most ?\n",
    "aux15 = round(real_DS.filter(regex = 'P25').sum().sort_values(ascending = False))\n",
    "aux15 #AWS for cloud"
   ]
  },
  {
   "cell_type": "code",
   "execution_count": 176,
   "id": "2072f375",
   "metadata": {},
   "outputs": [
    {
     "data": {
      "text/plain": [
       "('P26', 'mysql')              366\n",
       "('P26', 'postgresql')         345\n",
       "('P26', 'sql_server')         334\n",
       "('P26', 'oracle')             221\n",
       "('P26', 'mongodb')            207\n",
       "('P26', 's3')                 189\n",
       "('P26', 'elaticsearch')       115\n",
       "('P26', 'sqlite')             102\n",
       "('P26', 'other')               94\n",
       "('P26', 'mariadb')             64\n",
       "('P26', 'redis')               44\n",
       "('P26', 'dynamodb')            41\n",
       "('P26', 'firebase')            40\n",
       "('P26', 'db2')                 39\n",
       "('P26', 'google_bigtable')     36\n",
       "('P26', 'ms_access')           34\n",
       "('P26', 'hbase')               33\n",
       "('P26', 'cassandra')           27\n",
       "('P26', 'aurora')              23\n",
       "('P26', 'neo4j')               21\n",
       "('P26', 'sybase')              18\n",
       "('P26', 'coachdb')              5\n",
       "('P26', 'vertica')              5\n",
       "('P26', 'datomic')              3\n",
       "dtype: int64"
      ]
     },
     "execution_count": 176,
     "metadata": {},
     "output_type": "execute_result"
    }
   ],
   "source": [
    "# Which data app are used the most ?\n",
    "aux16 = round(real_DS.filter(regex = 'P26').sum().sort_values(ascending = False))\n",
    "aux16"
   ]
  },
  {
   "cell_type": "code",
   "execution_count": 177,
   "id": "b7078764",
   "metadata": {},
   "outputs": [
    {
     "data": {
      "text/plain": [
       "('P27', 'microsoft_powerbi')               393\n",
       "('P27', 'tableau')                         209\n",
       "('P27', 'no_bi_tool_at_work')              179\n",
       "('P27', 'metabase')                        144\n",
       "('P27', 'google_data_studio')              129\n",
       "('P27', 'only_excel_gsheets')              105\n",
       "('P27', 'qlik_view_qlik_sense')             95\n",
       "('P27', 'other')                            83\n",
       "('P27', 'microstrategy')                    27\n",
       "('P27', 'redash')                           26\n",
       "('P27', 'ibm_analytics_cognos')             20\n",
       "('P27', 'superset')                         17\n",
       "('P27', 'sap_business_objects')             17\n",
       "('P27', 'looker')                           15\n",
       "('P27', 'oracle_business_intelligence')     10\n",
       "('P27', 'birst')                             2\n",
       "dtype: int64"
      ]
     },
     "execution_count": 177,
     "metadata": {},
     "output_type": "execute_result"
    }
   ],
   "source": [
    "# Which BI are used the most ?\n",
    "aux17 = round(real_DS.filter(regex = 'P27').sum().sort_values(ascending = False))\n",
    "aux17 #Power BI & Tableau"
   ]
  },
  {
   "cell_type": "code",
   "execution_count": 178,
   "id": "1235a001",
   "metadata": {},
   "outputs": [
    {
     "data": {
      "text/plain": [
       "('P28', 'sql_&_stored_procedures')                 293\n",
       "('P28', 'other')                                   205\n",
       "('P28', 'pentaho')                                 170\n",
       "('P28', 'apache_airflow')                          156\n",
       "('P28', 'siss_sql_server_integration_services')    126\n",
       "('P28', 'aws_glue')                                104\n",
       "('P28', 'talend')                                   42\n",
       "('P28', 'ibm_data_stage')                           39\n",
       "('P28', 'alteryx')                                  37\n",
       "('P28', 'oracle_data_integrator')                   37\n",
       "('P28', 'sap_bw_etl')                               24\n",
       "('P28', 'luigi')                                    15\n",
       "dtype: int64"
      ]
     },
     "execution_count": 178,
     "metadata": {},
     "output_type": "execute_result"
    }
   ],
   "source": [
    "# Which ETL are used the most ?\n",
    "aux18 = round(real_DS.filter(regex = 'P28').sum().sort_values(ascending = False))\n",
    "aux18 #SQL"
   ]
  },
  {
   "cell_type": "code",
   "execution_count": 179,
   "id": "930855b9",
   "metadata": {},
   "outputs": [
    {
     "data": {
      "text/plain": [
       "('P30', 'postgres_mysql')     107\n",
       "('P30', 'aws_redshift')        92\n",
       "('P30', 'microsoft_azure')     85\n",
       "('P30', 'oracle')              82\n",
       "('P30', 'do_not_know')         60\n",
       "('P30', 'google_bigquery')     54\n",
       "('P30', 'other')               36\n",
       "('P30', 'teradata')            28\n",
       "('P30', 'ibm')                 20\n",
       "('P30', 'snowflake')           14\n",
       "dtype: int64"
      ]
     },
     "execution_count": 179,
     "metadata": {},
     "output_type": "execute_result"
    }
   ],
   "source": [
    "# Which data warehouse are used the most ?\n",
    "aux19 = round(real_DS.filter(regex = 'P30').sum().sort_values(ascending = False))\n",
    "aux19 "
   ]
  },
  {
   "cell_type": "code",
   "execution_count": 180,
   "id": "618ff8ca",
   "metadata": {},
   "outputs": [
    {
     "data": {
      "text/plain": [
       "('P33', 'youtube_channels')         526\n",
       "('P33', 'abroad_blogs')             474\n",
       "('P33', 'meetups_and_events')       459\n",
       "('P33', 'other_brasilian_blogs')    340\n",
       "('P33', 'abroad_podcasts')          284\n",
       "('P33', 'telegram_groups')          253\n",
       "('P33', 'whatsapp_groups')          227\n",
       "('P33', 'twitter')                  187\n",
       "('P33', 'other')                     94\n",
       "('P33', 'other_slack_channels')      56\n",
       "('P33', 'only_data_hackers')         49\n",
       "dtype: int64"
      ]
     },
     "execution_count": 180,
     "metadata": {},
     "output_type": "execute_result"
    }
   ],
   "source": [
    "# Which updates platforms are used the most ?\n",
    "aux20 = round(real_DS.filter(regex = 'P33').sum().sort_values(ascending = False))\n",
    "aux20 #Get info about DS world in Youtube"
   ]
  },
  {
   "cell_type": "code",
   "execution_count": 181,
   "id": "55ce22f0",
   "metadata": {},
   "outputs": [
    {
     "data": {
      "text/plain": [
       "('P34', 'udemy')             605\n",
       "('P34', 'coursera')          439\n",
       "('P34', 'udacity')           339\n",
       "('P34', 'data_camp')         255\n",
       "('P34', 'edx')               191\n",
       "('P34', 'kaggle_learn')      191\n",
       "('P34', 'height')            145\n",
       "('P34', 'other')             115\n",
       "('P34', 'online_courses')     51\n",
       "('P34', 'data_quest')         42\n",
       "dtype: int64"
      ]
     },
     "execution_count": 181,
     "metadata": {},
     "output_type": "execute_result"
    }
   ],
   "source": [
    "# Which learning platforms are used the most ?\n",
    "aux21 = round(real_DS.filter(regex = 'P34').sum().sort_values(ascending = False))\n",
    "aux21 #Learning in Udemy & Coursera"
   ]
  },
  {
   "cell_type": "code",
   "execution_count": 182,
   "id": "e6fb6657",
   "metadata": {},
   "outputs": [
    {
     "data": {
      "text/plain": [
       "Computação / Engenharia de Software / Sistemas de Informação    501\n",
       "Outras Engenharias                                              143\n",
       "Economia/ Administração / Contabilidade / Finanças               90\n",
       "Estatística/ Matemática / Matemática Computacional               84\n",
       "Outras                                                           35\n",
       "Química / Física                                                 18\n",
       "Marketing / Publicidade / Comunicação / Jornalismo               17\n",
       "Ciências Sociais                                                 10\n",
       "Name: ('D3', 'anonymized_degree_area'), dtype: int64"
      ]
     },
     "execution_count": 182,
     "metadata": {},
     "output_type": "execute_result"
    }
   ],
   "source": [
    "real_DS[\"('D3', 'anonymized_degree_area')\"].value_counts()"
   ]
  },
  {
   "cell_type": "markdown",
   "id": "beedfc85",
   "metadata": {},
   "source": [
    "DS professionals comes mostly from Computer science and Engineerings"
   ]
  },
  {
   "cell_type": "code",
   "execution_count": 183,
   "id": "2cfdb0c4",
   "metadata": {},
   "outputs": [
    {
     "data": {
      "text/plain": [
       "Tecnologia/Fábrica de Software    242\n",
       "Finanças ou Bancos                111\n",
       "Outras                             93\n",
       "Varejo                             47\n",
       "Setor Público                      46\n",
       "Educação                           40\n",
       "Área da Saúde                      39\n",
       "Marketing                          38\n",
       "Internet/Ecommerce                 37\n",
       "Indústria (Manufatura)             34\n",
       "Telecomunicação                    18\n",
       "Entretenimento ou Esportes         13\n",
       "Agronegócios                       10\n",
       "Seguros ou Previdência              7\n",
       "Setor Alimentício                   7\n",
       "Setor Automotivo                    7\n",
       "Setor Farmaceutico                  4\n",
       "Name: ('D4', 'anonymized_market_sector'), dtype: int64"
      ]
     },
     "execution_count": 183,
     "metadata": {},
     "output_type": "execute_result"
    }
   ],
   "source": [
    "real_DS[\"('D4', 'anonymized_market_sector')\"].value_counts()"
   ]
  },
  {
   "cell_type": "markdown",
   "id": "476b291e",
   "metadata": {},
   "source": [
    "In Brasil the market sector with more DS professionals are tecnology and banks"
   ]
  },
  {
   "cell_type": "code",
   "execution_count": 184,
   "id": "00e9230e",
   "metadata": {},
   "outputs": [
    {
     "data": {
      "text/plain": [
       "Data Scientist/Cientista de Dados          162\n",
       "Data Analyst/Analista de Dados             131\n",
       "Data Engineer/Engenheiro de Dados           93\n",
       "Business Intelligence/Analista de BI        75\n",
       "Desenvolvedor ou Engenheiro de Software     59\n",
       "Outras                                      33\n",
       "Business Analyst/Analista de Negócios       25\n",
       "Analista de Inteligência de Mercado         16\n",
       "Engenheiro de Machine Learning              15\n",
       "Estatístico                                  9\n",
       "Engenheiro                                   8\n",
       "DBA/Administrador de Banco de Dados          5\n",
       "Economista                                   4\n",
       "Analista de Marketing                        3\n",
       "Name: ('D6', 'anonymized_role'), dtype: int64"
      ]
     },
     "execution_count": 184,
     "metadata": {},
     "output_type": "execute_result"
    }
   ],
   "source": [
    "real_DS[\"('D6', 'anonymized_role')\"].value_counts()"
   ]
  },
  {
   "cell_type": "markdown",
   "id": "ad66a8f2",
   "metadata": {},
   "source": [
    "Info that seems important:\n",
    "- Age\n",
    "- Gender\n",
    "- Company size\n",
    "- Region in Brasil\n",
    "- Knowledge level\n",
    "- Manager position\n",
    "- Experience\n",
    "\n",
    "Get a ML model for feature decision"
   ]
  },
  {
   "cell_type": "markdown",
   "id": "627f251d",
   "metadata": {},
   "source": [
    "**Treatment**"
   ]
  },
  {
   "cell_type": "code",
   "execution_count": 185,
   "id": "7d3536b3",
   "metadata": {},
   "outputs": [
    {
     "data": {
      "text/plain": [
       "('D6', 'anonymized_role')             277\n",
       "('D1', 'living_macroregion')          184\n",
       "('D4', 'anonymized_market_sector')    122\n",
       "('P12', 'workers_number')             120\n",
       "('P13', 'manager')                    120\n",
       "('P16', 'salary_range')               120\n",
       "('P6', 'born_or_graduated')            25\n",
       "('D3', 'anonymized_degree_area')       17\n",
       "dtype: int64"
      ]
     },
     "execution_count": 185,
     "metadata": {},
     "output_type": "execute_result"
    }
   ],
   "source": [
    "# Treating missing data\n",
    "real_DS.isnull().sum()[real_DS.isnull().sum() != 0 ].sort_values(ascending = False)"
   ]
  },
  {
   "cell_type": "code",
   "execution_count": 186,
   "id": "56084bd7",
   "metadata": {},
   "outputs": [],
   "source": [
    "# Fillna: If people didn't answer it's probably not a manager position\n",
    "real_DS[\"('P13', 'manager')\"]= real_DS[\"('P13', 'manager')\"].fillna(real_DS[\"('P13', 'manager')\"].mode().iloc[0])\n",
    "real_DS[\"('P6', 'born_or_graduated')\"]= real_DS[\"('P6', 'born_or_graduated')\"].fillna(real_DS[\"('P6', 'born_or_graduated')\"].mode().iloc[0])"
   ]
  },
  {
   "cell_type": "code",
   "execution_count": 187,
   "id": "aee2c155",
   "metadata": {},
   "outputs": [],
   "source": [
    "# Get less categories for degree area\n",
    "real_DS.loc[real_DS[\"('D3', 'anonymized_degree_area')\"]== \"Ciências Sociais\", \"('D3', 'anonymized_degree_area')\"] = \"Outras\"\n",
    "real_DS.loc[real_DS[\"('D3', 'anonymized_degree_area')\"]== \"Marketing / Publicidade / Comunicação / Jornalismo\", \"('D3', 'anonymized_degree_area')\"] = \"Outras\"\n",
    "real_DS.loc[real_DS[\"('D3', 'anonymized_degree_area')\"]== \"Química / Física\", \"('D3', 'anonymized_degree_area')\"] = \"Outras\""
   ]
  },
  {
   "cell_type": "code",
   "execution_count": 188,
   "id": "e913778c",
   "metadata": {},
   "outputs": [],
   "source": [
    "# Fillna with mode\n",
    "real_DS[\"('D3', 'anonymized_degree_area')\"]= real_DS[\"('D3', 'anonymized_degree_area')\"].fillna(real_DS[\"('D3', 'anonymized_degree_area')\"].mode().iloc[0])"
   ]
  },
  {
   "cell_type": "code",
   "execution_count": 189,
   "id": "5b381f4f",
   "metadata": {},
   "outputs": [],
   "source": [
    "# Change salaries categories for numbers\n",
    "real_DS.loc[real_DS[\"('P16', 'salary_range')\"]== \"Menos de R$ 1.000/mês\", \"('P16', 'salary_range')\"] = 1000\n",
    "real_DS.loc[real_DS[\"('P16', 'salary_range')\"]== \"de R$ 1.001/mês a R$ 2.000/mês\", \"('P16', 'salary_range')\"] = 1500\n",
    "real_DS.loc[real_DS[\"('P16', 'salary_range')\"]== \"de R$ 2.001/mês a R$ 3000/mês\", \"('P16', 'salary_range')\"] = 2500\n",
    "real_DS.loc[real_DS[\"('P16', 'salary_range')\"]== \"de R$ 3.001/mês a R$ 4.000/mês\", \"('P16', 'salary_range')\"] = 3500\n",
    "real_DS.loc[real_DS[\"('P16', 'salary_range')\"]== \"de R$ 4.001/mês a R$ 6.000/mês\", \"('P16', 'salary_range')\"] = 5000\n",
    "real_DS.loc[real_DS[\"('P16', 'salary_range')\"]== \"de R$ 6.001/mês a R$ 8.000/mês\", \"('P16', 'salary_range')\"] = 7000\n",
    "real_DS.loc[real_DS[\"('P16', 'salary_range')\"]== \"de R$ 8.001/mês a R$ 12.000/mês\", \"('P16', 'salary_range')\"] = 10000\n",
    "real_DS.loc[real_DS[\"('P16', 'salary_range')\"]== \"de R$ 12.001/mês a R$ 16.000/mês\", \"('P16', 'salary_range')\"] = 14000\n",
    "real_DS.loc[real_DS[\"('P16', 'salary_range')\"]== \"de R$ 16.001/mês a R$ 20.000/mês\", \"('P16', 'salary_range')\"] = 18000\n",
    "real_DS.loc[real_DS[\"('P16', 'salary_range')\"]== \"de R$ 20.001/mês a R$ 25.000/mês\", \"('P16', 'salary_range')\"] = 23000\n",
    "real_DS.loc[real_DS[\"('P16', 'salary_range')\"]== \"Acima de R$ 25.001/mês\", \"('P16', 'salary_range')\"] = 25000"
   ]
  },
  {
   "cell_type": "code",
   "execution_count": 190,
   "id": "a88697cb",
   "metadata": {},
   "outputs": [],
   "source": [
    "# Changing categories for role\n",
    "real_DS.loc[real_DS[\"('D6', 'anonymized_role')\"]== \"Analista de Marketing\", \"('D6', 'anonymized_role')\"] = \"Outras\"\n",
    "real_DS.loc[real_DS[\"('D6', 'anonymized_role')\"]== \"Estatístico\", \"('D6', 'anonymized_role')\"] = \"Outras\"\n",
    "real_DS.loc[real_DS[\"('D6', 'anonymized_role')\"]== \"Engenheiro\", \"('D6', 'anonymized_role')\"] = \"Outras\"\n",
    "real_DS.loc[real_DS[\"('D6', 'anonymized_role')\"]== \"Economista\", \"('D6', 'anonymized_role')\"] = \"Outras\"\n",
    "real_DS.loc[real_DS[\"('D6', 'anonymized_role')\"]== \"DBA/Administrador de Banco de Dados\", \"('D6', 'anonymized_role')\"] = \"Data Engineer/Engenheiro de Dados\"\n",
    "real_DS.loc[real_DS[\"('D6', 'anonymized_role')\"]== \"Business Analyst/Analista de Negócios\", \"('D6', 'anonymized_role')\"] = \"Business Intelligence/Analista de BI\"\n",
    "real_DS.loc[real_DS[\"('D6', 'anonymized_role')\"]== \"Analista de Inteligência de Mercado\", \"('D6', 'anonymized_role')\"] = \"Business Intelligence/Analista de BI\""
   ]
  },
  {
   "cell_type": "code",
   "execution_count": 191,
   "id": "a89dc1c7",
   "metadata": {},
   "outputs": [],
   "source": [
    "# Fill with mean for simplifications\n",
    "real_DS[\"('P16', 'salary_range')\"]= real_DS[\"('P16', 'salary_range')\"].fillna(real_DS[\"('P16', 'salary_range')\"].mean())"
   ]
  },
  {
   "cell_type": "code",
   "execution_count": 192,
   "id": "9b3a49a5",
   "metadata": {},
   "outputs": [],
   "source": [
    "# Fill with mode for simplifications\n",
    "real_DS[\"('D6', 'anonymized_role')\"]= real_DS[\"('D6', 'anonymized_role')\"].fillna(real_DS[\"('D6', 'anonymized_role')\"].mode().iloc[0])"
   ]
  },
  {
   "cell_type": "code",
   "execution_count": 193,
   "id": "fd6b0d2c",
   "metadata": {},
   "outputs": [],
   "source": [
    "# Fill with mode for simplifications\n",
    "real_DS[\"('D1', 'living_macroregion')\"]= real_DS[\"('D1', 'living_macroregion')\"].fillna(real_DS[\"('D1', 'living_macroregion')\"].mode().iloc[0])"
   ]
  },
  {
   "cell_type": "code",
   "execution_count": 194,
   "id": "297fe05d",
   "metadata": {},
   "outputs": [],
   "source": [
    "# Changing categories for market sector\n",
    "real_DS.loc[real_DS[\"('D4', 'anonymized_market_sector')\"]== \"Varejo\", \"('D4', 'anonymized_market_sector')\"] = \"Vendas\"\n",
    "real_DS.loc[real_DS[\"('D4', 'anonymized_market_sector')\"]== \"Marketing\", \"('D4', 'anonymized_market_sector')\"] = \"Vendas\"\n",
    "real_DS.loc[real_DS[\"('D4', 'anonymized_market_sector')\"]== \"Internet/Ecommerce\", \"('D4', 'anonymized_market_sector')\"] = \"Vendas\"\n",
    "real_DS.loc[real_DS[\"('D4', 'anonymized_market_sector')\"]== \"Seguros ou Previdência\", \"('D4', 'anonymized_market_sector')\"] = \"Outras\"\n",
    "real_DS.loc[real_DS[\"('D4', 'anonymized_market_sector')\"]== \"Setor Alimentício\", \"('D4', 'anonymized_market_sector')\"] = \"Outras\"\n",
    "real_DS.loc[real_DS[\"('D4', 'anonymized_market_sector')\"]== \"Setor Automotivo\", \"('D4', 'anonymized_market_sector')\"] = \"Outras\"\n",
    "real_DS.loc[real_DS[\"('D4', 'anonymized_market_sector')\"]== \"Setor Farmaceutico\", \"('D4', 'anonymized_market_sector')\"] = \"Área da Saúde\"\n",
    "real_DS.loc[real_DS[\"('D4', 'anonymized_market_sector')\"]== \"Telecomunicação\", \"('D4', 'anonymized_market_sector')\"] = \"Tecnologia/Fábrica de Software\"\n",
    "real_DS.loc[real_DS[\"('D4', 'anonymized_market_sector')\"]== \"Entretenimento ou Esportes\", \"('D4', 'anonymized_market_sector')\"] = \"Outras\"\n",
    "real_DS.loc[real_DS[\"('D4', 'anonymized_market_sector')\"]== \"Agronegócios\", \"('D4', 'anonymized_market_sector')\"] = \"Indústria (Manufatura)\""
   ]
  },
  {
   "cell_type": "code",
   "execution_count": 195,
   "id": "45e1702d",
   "metadata": {},
   "outputs": [],
   "source": [
    "# Fill with mode for simplifications\n",
    "real_DS[\"('D4', 'anonymized_market_sector')\"]= real_DS[\"('D4', 'anonymized_market_sector')\"].fillna(real_DS[\"('D4', 'anonymized_market_sector')\"].mode().iloc[0])"
   ]
  },
  {
   "cell_type": "code",
   "execution_count": 196,
   "id": "834f8c1f",
   "metadata": {},
   "outputs": [],
   "source": [
    "# Changing categories for companie size\n",
    "real_DS.loc[real_DS[\"('P12', 'workers_number')\"]== \"de 6 a 10\", \"('P12', 'workers_number')\"] = \"Pequena\"\n",
    "real_DS.loc[real_DS[\"('P12', 'workers_number')\"]== \"de 1 a 5\", \"('P12', 'workers_number')\"] = \"Pequena\"\n",
    "real_DS.loc[real_DS[\"('P12', 'workers_number')\"]== \"Acima de 3000\", \"('P12', 'workers_number')\"] = \"Grande\"\n",
    "real_DS.loc[real_DS[\"('P12', 'workers_number')\"]== \"de 51 a 100\", \"('P12', 'workers_number')\"] = \"Pequena\"\n",
    "real_DS.loc[real_DS[\"('P12', 'workers_number')\"]== \"de 1001 a 3000\", \"('P12', 'workers_number')\"] = \"Grande\"\n",
    "real_DS.loc[real_DS[\"('P12', 'workers_number')\"]== \"de 501 a 1000\", \"('P12', 'workers_number')\"] = \"Média\"\n",
    "real_DS.loc[real_DS[\"('P12', 'workers_number')\"]== \"de 11 a 50\", \"('P12', 'workers_number')\"] = \"Pequena\"\n",
    "real_DS.loc[real_DS[\"('P12', 'workers_number')\"]== \"de 101 a 500\", \"('P12', 'workers_number')\"] = \"Média\""
   ]
  },
  {
   "cell_type": "code",
   "execution_count": 197,
   "id": "631f9151",
   "metadata": {},
   "outputs": [],
   "source": [
    "# Fill with mode for simplifications\n",
    "real_DS[\"('P12', 'workers_number')\"]= real_DS[\"('P12', 'workers_number')\"].fillna(real_DS[\"('P12', 'workers_number')\"].mode().iloc[0])"
   ]
  },
  {
   "cell_type": "code",
   "execution_count": 198,
   "id": "0900246c",
   "metadata": {},
   "outputs": [],
   "source": [
    "real_DS.loc[real_DS[\"('P17', 'time_experience_data_science')\"]== \"Não tenho experiência na área de dados\", \"('P17', 'time_experience_data_science')\"] = \"Menos de 1 ano\""
   ]
  },
  {
   "cell_type": "code",
   "execution_count": 199,
   "id": "2c8a0599",
   "metadata": {},
   "outputs": [],
   "source": [
    "DS_dummy= pd.get_dummies(real_DS, columns=[\"('P2', 'gender')\", \"('P8', 'degreee_level')\", \"('P10', 'job_situation')\",\n",
    "                                \"('P12', 'workers_number')\", \"('P17', 'time_experience_data_science')\", \n",
    "                                 \"('D1', 'living_macroregion')\", \"('D3', 'anonymized_degree_area')\", \n",
    "                                 \"('D4', 'anonymized_market_sector')\", \"('D6', 'anonymized_role')\"], drop_first= True)"
   ]
  },
  {
   "cell_type": "markdown",
   "id": "4400952f",
   "metadata": {},
   "source": [
    "**Feature Selection**"
   ]
  },
  {
   "cell_type": "code",
   "execution_count": 200,
   "id": "c86435fe",
   "metadata": {},
   "outputs": [],
   "source": [
    "X= DS_dummy.drop(columns= [\"('P16', 'salary_range')\", \"('P18', 'time_experience_before')\", \"('P34', 'other')\"])\n",
    "y= DS_dummy[\"('P16', 'salary_range')\"]"
   ]
  },
  {
   "cell_type": "code",
   "execution_count": 201,
   "id": "2d5e7cb1",
   "metadata": {},
   "outputs": [],
   "source": [
    "Xtrain, Xtest, ytrain, ytest= train_test_split(X, y)"
   ]
  },
  {
   "cell_type": "code",
   "execution_count": 203,
   "id": "522bbc02",
   "metadata": {},
   "outputs": [],
   "source": [
    "sc= MinMaxScaler().fit(Xtrain)\n",
    "Xtrain_normalized= sc.transform(Xtrain)\n",
    "Xtest_normalized= sc.transform(Xtrain)"
   ]
  },
  {
   "cell_type": "code",
   "execution_count": 207,
   "id": "daadd397",
   "metadata": {},
   "outputs": [],
   "source": [
    "rf= RandomForestRegressor(n_estimators=200, min_samples_split=100, min_samples_leaf=50).fit(Xtrain, ytrain)"
   ]
  },
  {
   "cell_type": "code",
   "execution_count": 208,
   "id": "366074b6",
   "metadata": {},
   "outputs": [
    {
     "data": {
      "text/plain": [
       "array([6.57821057e-01, 0.00000000e+00, 0.00000000e+00, 7.11844937e-02,\n",
       "       1.05729504e-02, 1.46249926e-02, 0.00000000e+00, 1.35393878e-02,\n",
       "       1.96366201e-02, 0.00000000e+00, 1.34812782e-03, 0.00000000e+00,\n",
       "       0.00000000e+00, 0.00000000e+00, 0.00000000e+00, 0.00000000e+00,\n",
       "       0.00000000e+00, 0.00000000e+00, 0.00000000e+00, 1.22202087e-02,\n",
       "       6.21967732e-02, 0.00000000e+00, 0.00000000e+00, 0.00000000e+00,\n",
       "       3.38707644e-04, 0.00000000e+00, 4.29890827e-04, 0.00000000e+00,\n",
       "       0.00000000e+00, 0.00000000e+00, 0.00000000e+00, 0.00000000e+00,\n",
       "       0.00000000e+00, 0.00000000e+00, 0.00000000e+00, 0.00000000e+00,\n",
       "       0.00000000e+00, 0.00000000e+00, 0.00000000e+00, 6.54109663e-03,\n",
       "       0.00000000e+00, 2.08033234e-03, 0.00000000e+00, 0.00000000e+00,\n",
       "       0.00000000e+00, 6.84828725e-04, 0.00000000e+00, 0.00000000e+00,\n",
       "       0.00000000e+00, 2.95890869e-03, 0.00000000e+00, 0.00000000e+00,\n",
       "       7.48292173e-04, 0.00000000e+00, 9.77253058e-04, 0.00000000e+00,\n",
       "       0.00000000e+00, 0.00000000e+00, 0.00000000e+00, 0.00000000e+00,\n",
       "       0.00000000e+00, 0.00000000e+00, 4.53364717e-04, 0.00000000e+00,\n",
       "       0.00000000e+00, 0.00000000e+00, 0.00000000e+00, 0.00000000e+00,\n",
       "       0.00000000e+00, 0.00000000e+00, 0.00000000e+00, 0.00000000e+00,\n",
       "       0.00000000e+00, 0.00000000e+00, 0.00000000e+00, 0.00000000e+00,\n",
       "       4.12086200e-04, 0.00000000e+00, 0.00000000e+00, 0.00000000e+00,\n",
       "       0.00000000e+00, 0.00000000e+00, 0.00000000e+00, 0.00000000e+00,\n",
       "       0.00000000e+00, 0.00000000e+00, 0.00000000e+00, 0.00000000e+00,\n",
       "       0.00000000e+00, 0.00000000e+00, 0.00000000e+00, 0.00000000e+00,\n",
       "       0.00000000e+00, 0.00000000e+00, 0.00000000e+00, 0.00000000e+00,\n",
       "       0.00000000e+00, 0.00000000e+00, 0.00000000e+00, 0.00000000e+00,\n",
       "       0.00000000e+00, 0.00000000e+00, 0.00000000e+00, 5.26838246e-04,\n",
       "       0.00000000e+00, 0.00000000e+00, 0.00000000e+00, 0.00000000e+00,\n",
       "       0.00000000e+00, 0.00000000e+00, 0.00000000e+00, 0.00000000e+00,\n",
       "       0.00000000e+00, 0.00000000e+00, 0.00000000e+00, 0.00000000e+00,\n",
       "       6.04455447e-03, 2.86193637e-04, 0.00000000e+00, 0.00000000e+00,\n",
       "       2.97090412e-03, 0.00000000e+00, 3.08660408e-03, 0.00000000e+00,\n",
       "       0.00000000e+00, 0.00000000e+00, 9.73864406e-04, 5.88214565e-04,\n",
       "       0.00000000e+00, 0.00000000e+00, 0.00000000e+00, 0.00000000e+00,\n",
       "       0.00000000e+00, 0.00000000e+00, 0.00000000e+00, 2.63330445e-02,\n",
       "       0.00000000e+00, 0.00000000e+00, 6.67705012e-04, 0.00000000e+00,\n",
       "       5.09284399e-04, 0.00000000e+00, 0.00000000e+00, 0.00000000e+00,\n",
       "       0.00000000e+00, 0.00000000e+00, 0.00000000e+00, 0.00000000e+00,\n",
       "       1.35380779e-03, 2.47075572e-04, 0.00000000e+00, 0.00000000e+00,\n",
       "       0.00000000e+00, 0.00000000e+00, 0.00000000e+00, 0.00000000e+00,\n",
       "       0.00000000e+00, 0.00000000e+00, 0.00000000e+00, 0.00000000e+00,\n",
       "       0.00000000e+00, 0.00000000e+00, 4.79505561e-03, 0.00000000e+00,\n",
       "       0.00000000e+00, 0.00000000e+00, 0.00000000e+00, 7.28474809e-02,\n",
       "       0.00000000e+00, 0.00000000e+00, 0.00000000e+00])"
      ]
     },
     "execution_count": 208,
     "metadata": {},
     "output_type": "execute_result"
    }
   ],
   "source": [
    "rf.feature_importances_"
   ]
  },
  {
   "cell_type": "code",
   "execution_count": 215,
   "id": "f9e841cb",
   "metadata": {},
   "outputs": [
    {
     "data": {
      "text/plain": [
       "<BarContainer object of 171 artists>"
      ]
     },
     "execution_count": 215,
     "metadata": {},
     "output_type": "execute_result"
    },
    {
     "data": {
      "image/png": "[encoded data removed]",
      "text/plain": [
       "<Figure size 864x2520 with 1 Axes>"
      ]
     },
     "metadata": {
      "needs_background": "light"
     },
     "output_type": "display_data"
    }
   ],
   "source": [
    "plt.rcParams.update({'figure.figsize': (12, 35)})\n",
    "plt.barh(X.columns, rf.feature_importances_)"
   ]
  },
  {
   "cell_type": "markdown",
   "id": "19ae7120",
   "metadata": {},
   "source": [
    "Most important info to get good DS positions:\n",
    "- Age\n",
    "- Manager position\n",
    "- Models you can use (Linear Regression, Logistic Regression, Decision Tree, Random Forest, Gradient boosted machines, Cluster)\n",
    "- NoSQL\n",
    "- NLP\n",
    "- On premise servers\n",
    "- Knowledge level (Graduation)\n",
    "- Company market sector (Tecnology)\n",
    "- Job role (Data scientist)"
   ]
  }
 ],
 "metadata": {
  "kernelspec": {
   "display_name": "Python 3 (ipykernel)",
   "language": "python",
   "name": "python3"
  },
  "language_info": {
   "codemirror_mode": {
    "name": "ipython",
    "version": 3
   },
   "file_extension": ".py",
   "mimetype": "text/x-python",
   "name": "python",
   "nbconvert_exporter": "python",
   "pygments_lexer": "ipython3",
   "version": "3.9.13"
  }
 },
 "nbformat": 4,
 "nbformat_minor": 5
}
